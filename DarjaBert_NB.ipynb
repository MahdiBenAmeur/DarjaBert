{
 "cells": [
  {
   "attachments": {},
   "cell_type": "markdown",
   "metadata": {},
   "source": [
    "in this notebook im attempting to build an nlp model capable of predicted the missing tokens in a piece of text written IN THE TUNISIAN DARIJA , both with latin and arabic alphabet , ofcourse the model we be later on be used as a base model for other tasks (word infilling/generation , classification, question answering, named entity recognition, translation, sentiment analysis etc...)\n",
    "for learning purposes im going to try to write every function from scratch\n"
   ]
  },
  {
   "attachments": {},
   "cell_type": "markdown",
   "metadata": {},
   "source": [
    "importing the necessary libraries (there will be more later on)\n"
   ]
  },
  {
   "cell_type": "code",
   "execution_count": 8,
   "metadata": {},
   "outputs": [
    {
     "name": "stderr",
     "output_type": "stream",
     "text": [
      "c:\\disque d\\ai_stuff\\projects\\pytorchtraining\\pytorch_training\\Lib\\site-packages\\tqdm\\auto.py:21: TqdmWarning: IProgress not found. Please update jupyter and ipywidgets. See https://ipywidgets.readthedocs.io/en/stable/user_install.html\n",
      "  from .autonotebook import tqdm as notebook_tqdm\n"
     ]
    }
   ],
   "source": [
    "from datasets import load_dataset\n",
    "import random\n",
    "import tqdm\n",
    "import json\n"
   ]
  },
  {
   "attachments": {},
   "cell_type": "markdown",
   "metadata": {},
   "source": [
    "## downloading and exploring the dataset\n"
   ]
  },
  {
   "cell_type": "code",
   "execution_count": 21,
   "metadata": {},
   "outputs": [],
   "source": [
    "\n",
    "ds = load_dataset(\"khaled123/Tunisian_Dialectic_English_Derja\" , cache_dir= \"darija_datasets\")"
   ]
  },
  {
   "cell_type": "code",
   "execution_count": 3,
   "metadata": {},
   "outputs": [
    {
     "data": {
      "text/plain": [
       "DatasetDict({\n",
       "    train: Dataset({\n",
       "        features: ['text'],\n",
       "        num_rows: 1664765\n",
       "    })\n",
       "})"
      ]
     },
     "execution_count": 3,
     "metadata": {},
     "output_type": "execute_result"
    }
   ],
   "source": [
    "ds"
   ]
  },
  {
   "cell_type": "code",
   "execution_count": 28,
   "metadata": {},
   "outputs": [],
   "source": [
    "train_data = ds[\"train\"]\n"
   ]
  },
  {
   "cell_type": "code",
   "execution_count": 5,
   "metadata": {},
   "outputs": [
    {
     "data": {
      "text/plain": [
       "datasets.arrow_dataset.Dataset"
      ]
     },
     "execution_count": 5,
     "metadata": {},
     "output_type": "execute_result"
    }
   ],
   "source": [
    "type(train_data)"
   ]
  },
  {
   "cell_type": "code",
   "execution_count": 248,
   "metadata": {},
   "outputs": [
    {
     "name": "stdout",
     "output_type": "stream",
     "text": [
      "Example 1: {'text': 'منجية تراها تلحق بها لتسألها عن ابنتها مشهد نوفمبر آخر الليل داخلي المستشفى قاعة التمريض منجية ممرضة ممرضة يوجد بالقاعة'} \n",
      "Example 2: {'text': 'إي أكهو خليها'} \n"
     ]
    }
   ],
   "source": [
    "number_of_exemples= 2\n",
    "for i in range(number_of_exemples):\n",
    "    random_index = random.randint(0, len(train_data))\n",
    "    print(f\"Example {i+1}: {train_data[random_index]} \")"
   ]
  },
  {
   "attachments": {},
   "cell_type": "markdown",
   "metadata": {},
   "source": [
    "## cleaning the dataset\n"
   ]
  },
  {
   "cell_type": "code",
   "execution_count": 114,
   "metadata": {},
   "outputs": [],
   "source": [
    "#removing everythin other than alphanumeric characters\n",
    "\n",
    "import re\n",
    "\n",
    "def clean_text(text):\n",
    "    text[\"text\"] = re.sub(r'[^\\u0600-\\u06FFa-zA-Z0-9\\s]', '', text[\"text\"])\n",
    "    text[\"text\"] = text[\"text\"].lower()\n",
    "    text[\"text\"] = ' '.join(text[\"text\"].split())\n",
    "\n",
    "    return text\n",
    "\n",
    "cleaned_data = train_data.map(clean_text)\n",
    "cleaned_data = cleaned_data.filter(lambda x: x[\"text\"].strip() != '')"
   ]
  },
  {
   "cell_type": "code",
   "execution_count": 29,
   "metadata": {},
   "outputs": [
    {
     "name": "stdout",
     "output_type": "stream",
     "text": [
      "cleaned 1: {'text': 'question اكتب تغريدة إيجابية answer الخطوة 1 حدد موضوع عام إيجابي باش نختار الامتنان كموضوع إيجابي للتغريدة خاطر يشجع الناس على تقدير الحاجات المليحة في حياتهم وينشر السعادة الخطوة 2 اختر تركيز محدد مهم إنو التغريدة تكون قريبة للناس، لذلك باش نركز على الأفراح اليومية والإنجازات اللي ينجموا الناس يتعاطفوا معاها ويعترفوا بيها الخطوة 3 بناء التغريدة باش نستعمل لغة غير رسمية ونخلي التغريدة قصيرة، خاطر التغريدات عندها حد أقصى من الحروف 280 إضافة الرموز التعبيرية تنجم تعزز الرسالة الإيجابية الخطوة 4 مراجعة وإنهاء التغريدة بعد المراجعة، نتأكد إنو التغريدة تثير شعور إيجابي وعندها القدرة على التفاعل مع جمهور واسع التغريدة النهائية اليوم، خلينا نحتفل بالنصر الصغير ونعتز بلحظات الفرح تذكروا إنكم تكونوا ممتنين للحاجات الصغيرة اللي تخلي الحياة جميلة امتنان إيجابية'} \n",
      "----------------------------------------------------\n",
      "cleaned 2: {'text': 'sure lets break down the translation stepbystep step 1 translation the original tunisian dialect text is الفليجة اللي خذاتها ما عجبتنيش مشيت بدلتهالها 1 الفليجة the flija flija refers to a type of tunisian pastry or dish 2 اللي that a relative pronoun 3 خذاتها i took it from the verb خذ which means to take 4 ما عجبتنيش i didnt like it the negation ما means not and عجبتني means it pleased me 5 مشيت i went from the verb يمشي which means to go 6 بدلتهالها i changed it for her from بدل meaning to change and لها meaning for her putting it all together the translation would be the flija that i took i didnt like it so i went and changed it for her step 2 explanation of translation choices tunisian dialect vs standard arabic tunisian arabic or derja has many unique words and phrases that differ from modern standard arabic msa for example الفليجة is a specific term that may not be widely recognized in msa the structure of sentences can also vary with more informal and colloquial expressions used in dialects capturing essence the phrase ما عجبتنيش is a colloquial way of expressing dislike which is more direct and informal than the msa equivalent the use of مشيت instead of the msa ذهبت reflects the everyday speech pattern in tunisian arabic overall the translation aims to maintain the casual tone and meaning of the original text while making it understandable in english if you have any more questions or need further assistance feel free to ask'} \n",
      "----------------------------------------------------\n",
      "cleaned 3: {'text': 'sure lets break down the translation stepbystep original text ويبشر بكل خير على كل هاذا نوع من الحوارات إلي تهم الشباب على ما يبدو وما فماش مانع لو ندرجوها stepbystep translation 1 ويبشر بكل خير translation and he brings good news explanation ويبشر wa yubashir means and he brings good news or and he announces good news this phrase sets a positive tone 2 على كل هاذا نوع من الحوارات translation about all this type of dialogues explanation على ala means about كل kul means all هاذا hatha is a colloquial form of هذا hatha meaning this and نوع من الحوارات naw min alhiwarat translates to type of dialogues the phrase refers to a specific category of discussions 3 إلي تهم الشباب على ما يبدو translation that seem to concern the youth explanation إلي ili is a colloquial form of التي allati meaning that تهم tuhimm means concern and الشباب alshabab means the youth على ما يبدو ala ma yabdu translates to it seems indicating a perception or observation 4 وما فماش مانع لو ندرجوها translation and there is no objection if we include them explanation وما فماش wa ma famaash means and there is no مانع mani means objection and لو ندرجوها law nadrijuha translates to if we include them this part suggests openness to including these dialogues full translation and he brings good news about all this type of dialogues that seem to concern the youth and there is no objection if we include them explanation of translation choices tunisian dialect vs standard arabic tunisian arabic darija often incorporates colloquial expressions and simplified grammar compared to'} \n",
      "----------------------------------------------------\n",
      "cleaned 4: {'text': 'sure lets break down the translation stepbystep step 1 translation the text أما هوما امراة كبيرة وراجل كبير يسخفوا can be translated to english as but they are an old woman and an old man who are joking step 2 explanation of translation choices 1 أما ama this word translates to but which is a common conjunction used to contrast ideas 2 هوما homa this is a colloquial way of saying they in tunisian dialect which differs from the standard arabic هم hum 3 امراة كبيرة imraa kbira this means old woman امراة imraa is the word for woman and كبيرة kbira means old or big in standard arabic it would be امرأة كبيرة imraah kabirah but the pronunciation and some vowel markings differ in the dialect 4 وراجل كبير wrajel kbira this translates to old man راجل rajel is the word for man and كبير kbira again means old in standard arabic it would be رجل كبير rajul kabir 5 يسخفوا yaskhafu this verb means to joke or to make fun in standard arabic the verb would be يُهَزِأ yuhziu or يَمزَح yamza but in tunisian dialect يسخف yaskhaf is more commonly used summary the translation captures the essence of the original text conveying that there are an old woman and an old man who are engaging in joking or playful behavior the tunisian dialect has its unique vocabulary and pronunciation which can differ significantly from standard arabic but the core meaning remains intact in the translation if you have any more questions or need further assistance feel free to ask'} \n",
      "----------------------------------------------------\n",
      "cleaned 5: {'text': 'اللوم موش عليك وحدك أما على هاك البهايم اللي قاعدين و يا راجل لا تمشي في لحظة ما يرحمكشي فيها ربي'} \n",
      "----------------------------------------------------\n"
     ]
    }
   ],
   "source": [
    "random.seed(42)\n",
    "number_of_exemples= 5\n",
    "for i in range(number_of_exemples):\n",
    "    random_index = random.randint(0, len(cleaned_data))\n",
    "    print(f\"cleaned {i+1}: {cleaned_data[random_index]} \")\n",
    "    print(\"----------------------------------------------------\")\n"
   ]
  },
  {
   "attachments": {},
   "cell_type": "markdown",
   "metadata": {},
   "source": [
    "# Tokenization\n"
   ]
  },
  {
   "attachments": {},
   "cell_type": "markdown",
   "metadata": {},
   "source": [
    "lets try tokenizing the dataset !\n"
   ]
  },
  {
   "attachments": {},
   "cell_type": "markdown",
   "metadata": {},
   "source": [
    "ofcourse there is multiple  of tokenization algorithms , like BPE , word tokenization ,  WordPiece , and sentence tokenization ect .\n",
    "\n",
    "for the first try im going to go with word tokenizaiton\n"
   ]
  },
  {
   "cell_type": "code",
   "execution_count": 8,
   "metadata": {},
   "outputs": [],
   "source": [
    "vocab_dict={}\n",
    "repetition_dict={}\n",
    "\n",
    "def tokenize_Data_by_word (text):    \n",
    "    phrase = text[\"text\"].lower().split()\n",
    "    result = []\n",
    "    for word in phrase:\n",
    "        if word in vocab_dict:\n",
    "            result.append(vocab_dict[word])\n",
    "            repetition_dict[word]+=1\n",
    "        else:\n",
    "            vocab_dict[word] = len(vocab_dict)\n",
    "            result.append(vocab_dict[word])\n",
    "            repetition_dict[word]=0\n",
    "    return {\"text\" :result}\n",
    "\n",
    "tokenized_data = cleaned_data.map(tokenize_Data_by_word)\n"
   ]
  },
  {
   "cell_type": "code",
   "execution_count": 6,
   "metadata": {},
   "outputs": [
    {
     "data": {
      "text/plain": [
       "0"
      ]
     },
     "execution_count": 6,
     "metadata": {},
     "output_type": "execute_result"
    }
   ],
   "source": [
    "len(vocab_dict) \n",
    "len(repetition_dict)"
   ]
  },
  {
   "cell_type": "code",
   "execution_count": 7,
   "metadata": {},
   "outputs": [],
   "source": [
    "for index , (key, value )in enumerate(vocab_dict.items()):\n",
    "    print(f\"key : {key} , value : {value} , rep : {repetition_dict[key]}\")\n",
    "    if index >10 :\n",
    "        break"
   ]
  },
  {
   "attachments": {},
   "cell_type": "markdown",
   "metadata": {},
   "source": [
    "we can clearly see with this method the vocab dictionary gets wayy wayyy too bigg due to our method and to our data having both arabic and english and also multiple prounonciations and type of writting for the same words, not efficient for our purposes and also does not handle the case where unkown words are entered , huge issue\n",
    "lets try implementing another methode , specifically\n",
    "\n",
    "## bite pair encoding (bpe)\n"
   ]
  },
  {
   "attachments": {},
   "cell_type": "markdown",
   "metadata": {},
   "source": [
    "first step lets create our initial vocab dictionary , it will contain the basic caracteres and numbers "
   ]
  },
  {
   "cell_type": "code",
   "execution_count": 9,
   "metadata": {},
   "outputs": [
    {
     "name": "stdout",
     "output_type": "stream",
     "text": [
      "{'a': 0, 'b': 1, 'c': 2, 'd': 3, 'e': 4, 'f': 5, 'g': 6, 'h': 7, 'i': 8, 'j': 9, 'k': 10, 'l': 11, 'm': 12, 'n': 13, 'o': 14, 'p': 15, 'q': 16, 'r': 17, 's': 18, 't': 19, 'u': 20, 'v': 21, 'w': 22, 'x': 23, 'y': 24, 'z': 25, 'ا': 26, 'ب': 27, 'ت': 28, 'ث': 29, 'ج': 30, 'ح': 31, 'خ': 32, 'د': 33, 'ذ': 34, 'ر': 35, 'ز': 36, 'س': 37, 'ش': 38, 'ص': 39, 'ض': 40, 'ط': 41, 'ظ': 42, 'ع': 43, 'غ': 44, 'ف': 45, 'ق': 46, 'ك': 47, 'ل': 48, 'م': 49, 'ن': 50, 'ه': 51, 'و': 52, 'ي': 53, '0': 54, '1': 55, '2': 56, '3': 57, '4': 58, '5': 59, '6': 60, '7': 61, '8': 62, '9': 63, ' ': 64, '[UNK]': 65, '[CLS]': 66, '[SEP]': 67, '[MASK]': 68, '[PAD]': 69}\n"
     ]
    }
   ],
   "source": [
    "vocab_dict = {}\n",
    "\n",
    "english_letters = [chr(i) for i in range(ord('a'), ord('z') + 1)]\n",
    "\n",
    "arabic_letters = [\n",
    "    'ا', 'ب', 'ت', 'ث', 'ج', 'ح', 'خ',\n",
    "    'د', 'ذ', 'ر', 'ز', 'س', 'ش', 'ص',\n",
    "    'ض', 'ط', 'ظ', 'ع', 'غ', 'ف', 'ق',\n",
    "    'ك', 'ل', 'م', 'ن', 'ه', 'و', 'ي'\n",
    "]\n",
    "digits = [str(i) for i in range(10)]\n",
    "\n",
    "all_chars = english_letters + arabic_letters + digits\n",
    "\n",
    "for idx, char in enumerate(all_chars):\n",
    "    vocab_dict[char] = idx\n",
    "vocab_dict[\" \"] = 64\n",
    "vocab_dict[\"[UNK]\"] =65\n",
    "vocab_dict[\"[CLS]\"] =66\n",
    "vocab_dict[\"[SEP]\"] =67\n",
    "vocab_dict[\"[MASK]\"] =68\n",
    "vocab_dict[\"[PAD]\"] =69\n",
    "\n",
    "print(vocab_dict)\n"
   ]
  },
  {
   "cell_type": "code",
   "execution_count": 9,
   "metadata": {},
   "outputs": [
    {
     "data": {
      "text/plain": [
       "70"
      ]
     },
     "execution_count": 9,
     "metadata": {},
     "output_type": "execute_result"
    }
   ],
   "source": [
    "len(vocab_dict) "
   ]
  },
  {
   "attachments": {},
   "cell_type": "markdown",
   "metadata": {},
   "source": [
    "ofcourse that not our vocab dictionary but its base for now , we need build our vocab based on our training data , we will specify the size to be 20000 (it will stop around that number but not specificly at that number)\n"
   ]
  },
  {
   "cell_type": "code",
   "execution_count": 10,
   "metadata": {},
   "outputs": [],
   "source": [
    "max_vocab_size = 20000\n",
    "def tokenize(text , vocab_dict=vocab_dict , ignore_unknown=False):\n",
    "    text = text.lower()\n",
    "    tokens =[]\n",
    "    encoding =[]\n",
    "    i=0\n",
    "    MAX_SUBWORD_LEN = 8\n",
    "\n",
    "    while(i<len(text)):\n",
    "        found = False\n",
    "        for j in range(min(i + MAX_SUBWORD_LEN, len(text)), i, -1):\n",
    "            subword = text[i:j]\n",
    "            if subword in vocab_dict:\n",
    "                tokens.append(subword)\n",
    "                encoding.append(vocab_dict[subword])\n",
    "                found = True\n",
    "                i=j\n",
    "                break\n",
    "        if not found :\n",
    "            i+=1\n",
    "            if  ignore_unknown==False:\n",
    "                tokens.append(\"[UNK]\")\n",
    "                encoding.append(vocab_dict[\"[UNK]\"])\n",
    "    return tokens , encoding\n",
    "            \n",
    "\n",
    "            \n"
   ]
  },
  {
   "cell_type": "code",
   "execution_count": 8,
   "metadata": {},
   "outputs": [
    {
     "name": "stdout",
     "output_type": "stream",
     "text": [
      "(['c', 'h', 'a', 'p', 'p', 'a', 't', 'y', ' ', 'i', 's', ' ', 'r', 'e', 'a', 'l', 'l', 'y', ' ', 't', 'a', 's', 't', 'y', 'y'], [2, 7, 0, 15, 15, 0, 19, 24, 64, 8, 18, 64, 17, 4, 0, 11, 11, 24, 64, 19, 0, 18, 19, 24, 24])\n",
      "(['ص', 'ب', 'ا', 'ح', ' ', 'ا', 'ل', 'خ', 'ي', 'ر'], [39, 27, 26, 31, 64, 26, 48, 32, 53, 35])\n",
      "(['[UNK]', 'c', 'l', 's', '[UNK]', ' ', ' ', ' ', ' ', 'ص', 'ب', 'ا', 'ح', ' ', 'ا', 'ل', 'خ', 'ي', 'ر'], [65, 2, 11, 18, 65, 64, 64, 64, 64, 39, 27, 26, 31, 64, 26, 48, 32, 53, 35])\n"
     ]
    }
   ],
   "source": [
    "phrase1 = \"chappaty is really tastyy\"\n",
    "phrase2 = \"صباح الخير\"\n",
    "print(tokenize( phrase1))\n",
    "print(tokenize(phrase2))\n",
    "print(tokenize(\"[CLS]    \"+phrase2))\n"
   ]
  },
  {
   "attachments": {},
   "cell_type": "markdown",
   "metadata": {},
   "source": [
    "the below algorithm works as the following , first we get a big chunck of continous text , tokenize it with our current vocab dictionary , find the top 500 frequent token pair that are over the specified minimum frequency , add them to the vocab dictionary , and repeat , untill we have over 20000 tokens in the vocab dict"
   ]
  },
  {
   "cell_type": "code",
   "execution_count": 37,
   "metadata": {},
   "outputs": [],
   "source": [
    "#lets take top 500 repeting tokens\n",
    "num_token_to_take = 500\n",
    "min_frequency= 500\n",
    "max_vocab_size = 20000\n",
    "\n",
    "def add_to_vocab(chunk):\n",
    "    phrase = chunk.lower()\n",
    "    tokens , encoding = tokenize(phrase)\n",
    "    #print(\"generated tokens\")\n",
    "    #coupeling\n",
    "    temp= {}\n",
    "    for i in (range(0,len(tokens))):\n",
    "        if i+1 > len(tokens)-1 :\n",
    "            break\n",
    "        if tokens[i] == \"[UNK]\" or tokens[i+1] == \"[UNK]\" or len(tokens[i+1])+len(tokens[i])>8:\n",
    "            continue\n",
    "\n",
    "        pair = tokens[i]+tokens[i+1]\n",
    "        if pair in temp:\n",
    "            temp[pair]+=1\n",
    "        else:\n",
    "            temp[pair]=1\n",
    "    sorted_new_tokens = sorted(temp.items(), key=lambda x: x[1], reverse=True)\n",
    "    #lets take top 500 repeting tokens\n",
    "    added=0\n",
    "    for  new_token , freq in  sorted_new_tokens:\n",
    "        if freq<min_frequency:\n",
    "            break\n",
    "        if new_token not in vocab_dict:\n",
    "            vocab_dict[new_token] = len(vocab_dict)\n",
    "            added+=1\n",
    "        if added>=num_token_to_take:\n",
    "            break\n",
    " \n",
    "#TO PASS the data as big chunks of text\n",
    "def get_chunk(data, chunk_size=150_000_000):\n",
    "    current_chunk = []\n",
    "    current_len = 0\n",
    "\n",
    "    for example in data:\n",
    "        text = example[\"text\"] + \" \"\n",
    "        current_chunk.append(text)\n",
    "        current_len += len(text)\n",
    "\n",
    "        if current_len >= chunk_size:\n",
    "            yield \"\".join(current_chunk)\n",
    "            current_chunk = []\n",
    "            current_len = 0\n",
    "\n",
    "    if current_chunk:\n",
    "        yield \"\".join(current_chunk)\n",
    "\n",
    "\n",
    "\n",
    "        \n",
    "\n",
    "\n",
    "\n",
    "\n"
   ]
  },
  {
   "cell_type": "code",
   "execution_count": 38,
   "metadata": {},
   "outputs": [
    {
     "name": "stdout",
     "output_type": "stream",
     "text": [
      "returned : 150001400\n"
     ]
    }
   ],
   "source": [
    "gen = get_chunk(cleaned_data)\n",
    "print(f\"returned : {len(next(gen))}\")"
   ]
  },
  {
   "attachments": {},
   "cell_type": "markdown",
   "metadata": {},
   "source": [
    "BUILDING THE VOCAB\n"
   ]
  },
  {
   "cell_type": "code",
   "execution_count": null,
   "metadata": {},
   "outputs": [],
   "source": [
    "\n",
    "max_iter = 100\n",
    "iter = 0\n",
    "while (len(vocab_dict) < max_vocab_size):\n",
    "    if iter>=max_iter:\n",
    "        break\n",
    "    for i in tqdm.tqdm(get_chunk(cleaned_data)):\n",
    "            \n",
    "        iter += 1\n",
    "\n",
    "        print(f\"len of chunk : {len(i)}\")\n",
    "        old_vocab_size = len(vocab_dict)\n",
    "        add_to_vocab(i)\n",
    "        print(f\" number of added tokens : {len(vocab_dict)-old_vocab_size} ,new vocab size : {len(vocab_dict)}\")\n",
    "        if len(vocab_dict) >= max_vocab_size:\n",
    "            break\n",
    "\n",
    "    print(\"full circle\")\n",
    "\n",
    "\n"
   ]
  },
  {
   "attachments": {},
   "cell_type": "markdown",
   "metadata": {},
   "source": [
    "Lets see some exemple tokens!\n"
   ]
  },
  {
   "cell_type": "code",
   "execution_count": null,
   "metadata": {},
   "outputs": [],
   "source": [
    "import random\n",
    "\n",
    "sample = random.sample(list(vocab_dict.items()), 20)\n",
    "\n",
    "for token, idx in sample:\n",
    "    print(f\"{repr(token):<10} -> {idx}\")\n"
   ]
  },
  {
   "attachments": {},
   "cell_type": "markdown",
   "metadata": {},
   "source": [
    "## saving our vocabulary dict for future use\n"
   ]
  },
  {
   "attachments": {},
   "cell_type": "markdown",
   "metadata": {},
   "source": [
    "we will need to save and retrive our vocab dict later on so lets build a save and load functions\n"
   ]
  },
  {
   "cell_type": "code",
   "execution_count": 11,
   "metadata": {},
   "outputs": [],
   "source": [
    "def save_vocab_dict(path , vocab_dict):\n",
    "    with open(path, 'w' , encoding=\"utf-8\") as f:\n",
    "        json.dump(vocab_dict,f ,ensure_ascii=False)\n",
    "def load_vocab_dict(path ):\n",
    "    with open(path , \"r\" , encoding=\"utf-8\") as f:\n",
    "        vocab = json.load(f)\n",
    "    return vocab\n"
   ]
  },
  {
   "cell_type": "code",
   "execution_count": null,
   "metadata": {},
   "outputs": [],
   "source": [
    "path  = \"./vocab_dict.json\"\n",
    "save_vocab_dict(path, vocab_dict)\n"
   ]
  },
  {
   "cell_type": "code",
   "execution_count": 12,
   "metadata": {},
   "outputs": [
    {
     "name": "stdout",
     "output_type": "stream",
     "text": [
      "new vocab size : 20153\n"
     ]
    }
   ],
   "source": [
    "path  = \"./vocab_dict.json\"\n",
    "\n",
    "new_vocab = load_vocab_dict(path)\n",
    "\n",
    "print(f\"new vocab size : {len(new_vocab)}\")"
   ]
  },
  {
   "attachments": {},
   "cell_type": "markdown",
   "metadata": {},
   "source": [
    "small test"
   ]
  },
  {
   "cell_type": "code",
   "execution_count": 11,
   "metadata": {},
   "outputs": [
    {
     "name": "stdout",
     "output_type": "stream",
     "text": [
      "'pment'    -> 13223\n",
      "' موجود'   -> 2822\n",
      "' دور'     -> 2559\n",
      "'دوش '     -> 18034\n",
      "' بدون '   -> 14522\n",
      "' cra'     -> 17341\n",
      "'end'      -> 3910\n",
      "'ينجم'     -> 2197\n",
      "'خط'       -> 2088\n",
      "'ath '     -> 8618\n",
      "'cle '     -> 9450\n",
      "' imagin'  -> 9565\n",
      "' wea'     -> 10200\n",
      "'متاز'     -> 14575\n",
      "'في عالم'  -> 19312\n",
      "'وضعي'     -> 5064\n",
      "' نشر'     -> 13210\n",
      "'loved '   -> 12644\n",
      "'مرتب'     -> 2988\n",
      "' الرا'    -> 14220\n"
     ]
    }
   ],
   "source": [
    "import random\n",
    "\n",
    "sample = random.sample(list(new_vocab.items()), 20)\n",
    "\n",
    "for token, idx in sample:\n",
    "    print(f\"{repr(token):<10} -> {idx}\")"
   ]
  },
  {
   "attachments": {},
   "cell_type": "markdown",
   "metadata": {},
   "source": [
    "we have built and saved the tokenizer and vocabulary , lets build the decoder now\n"
   ]
  },
  {
   "cell_type": "code",
   "execution_count": 13,
   "metadata": {},
   "outputs": [],
   "source": [
    "token_to_vocab = {v:k for k , v in new_vocab.items()}\n",
    "def decode (tokens):\n",
    "    sentence = [token_to_vocab.get(token,\"\") for token in tokens]\n",
    "    return \"\".join(sentence)\n",
    "\n"
   ]
  },
  {
   "attachments": {},
   "cell_type": "markdown",
   "metadata": {},
   "source": [
    "lets test it\n"
   ]
  },
  {
   "cell_type": "code",
   "execution_count": 13,
   "metadata": {},
   "outputs": [
    {
     "name": "stdout",
     "output_type": "stream",
     "text": [
      "🔤 Latin Phrase\n",
      "Original: Wenek? men bekry nestanew fyyk\n",
      "Tokens  : ['we', 'ne', 'k', ' men', ' be', 'k', 'ry', ' ne', 'stan', 'ew ', 'fy', 'yk']\n",
      "Encoding: [318, 208, 10, 12354, 3918, 10, 340, 1389, 600, 6413, 6790, 15604]\n",
      "Decoded : wenek men bekry nestanew fyyk\n",
      "\n",
      "🔠 Arabic Phrase\n",
      "Original: وينك؟ من بكري نستناو فيك\n",
      "Tokens  : ['وين', 'ك', ' من ', 'بكري', ' نست', 'نا', 'و في', 'ك']\n",
      "Encoding: [19383, 47, 1572, 6303, 2408, 180, 1844, 47]\n",
      "Decoded : وينك من بكري نستناو فيك\n"
     ]
    }
   ],
   "source": [
    "\n",
    "test_phrase_in_darija = \"Wenek? men bekry nestanew fyyk\"\n",
    "test_phrase_in_arabic_darija = \"وينك؟ من بكري نستناو فيك\"\n",
    "\n",
    "\n",
    "tokens1, encoding1 = tokenize(test_phrase_in_darija , vocab_dict=new_vocab,ignore_unknown=True)\n",
    "tokens2, encoding2 = tokenize(test_phrase_in_arabic_darija, vocab_dict=new_vocab , ignore_unknown=True)\n",
    "\n",
    "print(\"🔤 Latin Phrase\")\n",
    "print(\"Original:\", test_phrase_in_darija)\n",
    "print(\"Tokens  :\", tokens1)\n",
    "print(\"Encoding:\", encoding1)\n",
    "print(\"Decoded :\", decode(encoding1))\n",
    "\n",
    "print(\"\\n🔠 Arabic Phrase\")\n",
    "print(\"Original:\", test_phrase_in_arabic_darija)\n",
    "print(\"Tokens  :\", tokens2)\n",
    "print(\"Encoding:\", encoding2)\n",
    "print(\"Decoded :\", decode(encoding2))\n"
   ]
  },
  {
   "attachments": {},
   "cell_type": "markdown",
   "metadata": {},
   "source": [
    "we created the Vocabulary, Tokenizer, Encoder & Decoder , Save and Load\n",
    "\n",
    "everything looks great, onto the next big step\n",
    "\n",
    "---\n",
    "\n",
    "# LET BUILD THE MODDEEELLLLL\n"
   ]
  },
  {
   "attachments": {},
   "cell_type": "markdown",
   "metadata": {},
   "source": [
    "im basing it on the transformers architecture, with only an encoder for now, like BERT  \n",
    "i might try a different architecture later on\n",
    "\n",
    "heres the orginal paper for refrence:  \n",
    "https://proceedings.neurips.cc/paper_files/paper/2017/file/3f5ee243547dee91fbd053c1c4a845aa-Paper.pdf\n",
    "\n",
    "---\n",
    "\n",
    "first , lets start by creating the embadding and positionel embadding layer first\n"
   ]
  },
  {
   "attachments": {},
   "cell_type": "markdown",
   "metadata": {},
   "source": [
    "## building the embadding layer from scratch\n"
   ]
  },
  {
   "cell_type": "code",
   "execution_count": 1,
   "metadata": {},
   "outputs": [],
   "source": [
    "import torch\n",
    "from torch import nn"
   ]
  },
  {
   "cell_type": "code",
   "execution_count": 2,
   "metadata": {},
   "outputs": [],
   "source": [
    "# embadding layer but from scratch\n",
    "class DarjaEmbadding(nn.Module):\n",
    "    def __init__(self, vocab_size, embad_dim , window_size):\n",
    "        super().__init__()\n",
    "        self.embaddings = nn.Parameter(torch.randn((vocab_size, embad_dim)),requires_grad=True)\n",
    "        self.positionel_embaddings = nn.Parameter(torch.randn((window_size, embad_dim)),requires_grad=True)\n",
    "\n",
    "    def forward(self, tokens):\n",
    "        return self.embaddings[tokens]+self.positionel_embaddings[:tokens.shape[1]]\n",
    "\n"
   ]
  },
  {
   "attachments": {},
   "cell_type": "markdown",
   "metadata": {},
   "source": [
    "to help us test the embedding model , we should creating a function that takes a list of encodings and turns it into a input tensor of\n",
    "shape [B, T] to pass onto the model\n",
    "where B is the batch size , and T is the number of tokens per tensor\n",
    "\n",
    "-note : T should be the same of all the passed vectors , so we might need to expend some vectors (add paddings)\n"
   ]
  },
  {
   "cell_type": "code",
   "execution_count": 14,
   "metadata": {},
   "outputs": [],
   "source": [
    "def to_tensor(encodings, vocab_dict , window_size):\n",
    "    batch = []\n",
    "    for encoding in encodings:\n",
    "        batch.append(encoding)\n",
    "    max_len_phrase = len(max(batch , key=lambda x : len(x)))\n",
    "\n",
    "    if max_len_phrase> window_size:\n",
    "        raise ValueError(f\"Sequence exceeds window size of {window_size}\")\n",
    "    #kabber el encoding \n",
    "    new_batch= []\n",
    "    for encoding in batch:\n",
    "        encoding = encoding + [vocab_dict[\"[PAD]\"]]*(max_len_phrase-len(encoding))\n",
    "        new_batch.append(encoding)\n",
    "\n",
    "\n",
    "    new_batch = torch.tensor(new_batch,dtype = torch.long)\n",
    "    return new_batch\n"
   ]
  },
  {
   "cell_type": "code",
   "execution_count": 15,
   "metadata": {},
   "outputs": [
    {
     "name": "stdout",
     "output_type": "stream",
     "text": [
      "tensor([[ 318,  208,  305,  410,  119,   69,   69,   69],\n",
      "        [ 145,  553, 2217,  132, 6917, 6003, 8526,    0]])\n"
     ]
    },
    {
     "data": {
      "text/plain": [
       "tensor([[[-0.6020,  0.8431,  2.3258,  ..., -1.8662,  0.6345, -0.9976],\n",
       "         [ 1.2322,  0.0977,  1.3831,  ..., -0.0959,  0.2493, -0.9996],\n",
       "         [ 1.2748, -0.2016, -2.6916,  ..., -1.7636, -1.0816, -0.7561],\n",
       "         ...,\n",
       "         [-1.3675,  1.7508, -0.0963,  ..., -0.6348,  1.0943, -0.4093],\n",
       "         [-0.3096,  0.1913, -0.3836,  ..., -1.7507,  1.0601,  0.3299],\n",
       "         [-0.3802,  0.7613, -1.0469,  ..., -0.8571,  2.7972,  0.6922]],\n",
       "\n",
       "        [[-0.5574,  2.8418,  0.0504,  ..., -0.5606, -0.9841, -1.3850],\n",
       "         [ 1.3299, -1.1614,  0.9689,  ...,  0.4555, -1.0745, -0.8468],\n",
       "         [ 0.7334, -0.1789,  0.8090,  ..., -0.7477, -0.8592, -0.6266],\n",
       "         ...,\n",
       "         [-1.0546,  0.1370, -1.0977,  ...,  2.5629, -2.2278,  0.6302],\n",
       "         [-0.0725, -0.0287, -1.2213,  ...,  0.2969, -0.7501,  1.5872],\n",
       "         [-0.3932, -0.1261, -1.1436,  ...,  0.4723, -1.0987,  1.0220]]],\n",
       "       grad_fn=<AddBackward0>)"
      ]
     },
     "execution_count": 15,
     "metadata": {},
     "output_type": "execute_result"
    }
   ],
   "source": [
    "#small test\n",
    "vocab_size = len(new_vocab)\n",
    "embad_dim = 512\n",
    "window_size = 2048\n",
    "embaddinglayer = DarjaEmbadding(vocab_size, embad_dim , window_size )\n",
    "phrase = \"wenek bro ?\"\n",
    "phrase2=\"hanyyy fythnyaa\"\n",
    "_ , encoding1 = tokenize(phrase,new_vocab ,True)\n",
    "_ , encoding2 = tokenize(phrase2,new_vocab ,True)\n",
    "\n",
    "batch = to_tensor([encoding1,encoding2] ,new_vocab , window_size )\n",
    "print(batch)\n",
    "result = embaddinglayer(batch)\n",
    "result\n"
   ]
  },
  {
   "attachments": {},
   "cell_type": "markdown",
   "metadata": {},
   "source": [
    "by enspecting the resulting matrix we can see that we have a shape of B T D . B being the batch size T being the number of tokens per tensor ( Padded to be the smae for each tensor) , and newly D which is the embadding Dimention for each token\n"
   ]
  },
  {
   "cell_type": "code",
   "execution_count": 16,
   "metadata": {},
   "outputs": [
    {
     "data": {
      "text/plain": [
       "torch.Size([2, 8, 512])"
      ]
     },
     "execution_count": 16,
     "metadata": {},
     "output_type": "execute_result"
    }
   ],
   "source": [
    "result.shape"
   ]
  },
  {
   "attachments": {},
   "cell_type": "markdown",
   "metadata": {},
   "source": [
    "## Masking Function\n",
    "\n",
    "now lets build the masking function  \n",
    "the maskign function will take an input phrase (or batch of phrases in our case)  \n",
    "and randomly replace some tokens with the [mask] token  \n",
    "this will be indecat to our model that it will try to generate the missing tokens based on the context\n",
    "\n"
   ]
  },
  {
   "cell_type": "code",
   "execution_count": 30,
   "metadata": {},
   "outputs": [
    {
     "name": "stdout",
     "output_type": "stream",
     "text": [
      "original  : he made my day\n",
      "tokens    : ['he made ', 'my d', 'ay']\n",
      "encoding  : [19716, 5347, 243]\n",
      "original  : احلامي بسيييييطة\n",
      "tokens    : ['احل', 'امي ', 'بس', 'يييي', 'يط', 'ة']\n",
      "encoding  : [13511, 10407, 2955, 15092, 6449, 20145]\n",
      "original  : عاودولي الصيف النفسية ماهياش جاهزة لتغليف الكتب و الpanier و ال autodicte\n",
      "tokens    : ['عاود', 'ولي ', 'الصيف ', 'النفسي', 'ة', ' ما', 'هياش ', 'جاهز', 'ة', ' لت', 'غل', 'يف ', 'الك', 'تب', ' و ال', 'pa', 'ni', 'er', ' و ال', ' a', 'ut', 'od', 'ic', 'te']\n",
      "encoding  : [6165, 1970, 19497, 19860, 20145, 1845, 12589, 13995, 20145, 17953, 15261, 15342, 1918, 507, 8837, 369, 169, 104, 8837, 77, 287, 394, 122, 100]\n",
      "original  : عكس ما يقولوا فيروز في الليل خير\n",
      "tokens    : ['عكس ', 'ما ي', 'قولوا ', 'في', 'رو', 'ز في ', 'الليل ', 'خير']\n",
      "encoding  : [9068, 1646, 13262, 151, 355, 15640, 13437, 1871]\n",
      "original  : كيف نتحمّس عادة النتيجة\n",
      "tokens    : ['كيف ', 'نت', 'حم', 'س ', 'عاد', 'ة', ' النتيج', 'ة']\n",
      "encoding  : [1838, 302, 1863, 261, 1864, 20145, 11430, 20145]\n"
     ]
    }
   ],
   "source": [
    "#small modification to get chunk function to return a list of phrases instead of a one single long phrase\n",
    "def get_chunk(data, chunk_lenght=5 , start = 0):\n",
    "    current_chunk = []\n",
    "    current_len = 0\n",
    "    for pos  , example in enumerate(data):\n",
    "        if pos < start:\n",
    "            continue\n",
    "        text = example[\"text\"] \n",
    "        if len(text.split())<2:\n",
    "            continue\n",
    "        current_chunk.append(text)\n",
    "        current_len+=1\n",
    "        if current_len >= chunk_lenght:\n",
    "            yield current_chunk\n",
    "            current_chunk = []\n",
    "            current_len = 0\n",
    "\n",
    "    if current_chunk:\n",
    "        yield current_chunk\n",
    "#modification to tokenize function to tokenize by batch\n",
    "def tokenize_batch(chunk , vocab_dict ,trunc = float(\"inf\"), ignore_unk = False ):\n",
    "    tokens = []\n",
    "    encodings = []\n",
    "    for text in chunk:\n",
    "        token , encoding = tokenize(text , vocab_dict=vocab_dict, ignore_unknown = ignore_unk)\n",
    "        if len(encoding)> trunc:\n",
    "            encoding = encoding[:trunc]\n",
    "            token = token[:trunc]\n",
    "        tokens.append(token)\n",
    "        encodings.append(encoding)\n",
    "    return tokens, encodings\n",
    "\n",
    "#test \n",
    "chunk = next(get_chunk(cleaned_data))\n",
    "\n",
    "tokens , encoding = tokenize_batch(chunk , new_vocab ,ignore_unk= True)\n",
    "\n",
    "for i in range ( len(chunk)):\n",
    "    print(f\"original  : {chunk[i]}\")\n",
    "    print(f\"tokens    : {tokens[i]}\")\n",
    "    print(f\"encoding  : {encoding[i]}\")"
   ]
  },
  {
   "attachments": {},
   "cell_type": "markdown",
   "metadata": {},
   "source": [
    "to prevent overfitting one the [mask] token we are going to randomly replace the selected token with another random one\n"
   ]
  },
  {
   "cell_type": "code",
   "execution_count": 31,
   "metadata": {},
   "outputs": [],
   "source": [
    "\n",
    "\n",
    "            \n",
    "#after tokenization we will pass the tokens to this function to mask random tokens\n",
    "def mask_batch(list_of_tokens , list_of_encoding ,vocab_dict = new_vocab , mask_rate = 0.15):\n",
    "    \n",
    "    result_tokens = []\n",
    "    result_encodings = []\n",
    "    special_tokens= [\"[UNK]\" , \"[CLS]\" , \"[SEP]\" , \"[MASK]\" , \"[PAD]\"]\n",
    "\n",
    "    candidate_tokens = [tok for tok in vocab_dict if tok not in special_tokens]\n",
    "\n",
    "    result_indexes = []\n",
    "    for index in range(len(list_of_tokens)):\n",
    "        masked_tokens=list(list_of_tokens[index])\n",
    "        masked_encodings=list(list_of_encoding[index])\n",
    "        nb_tokens = len(masked_tokens)\n",
    "        nb_tokens_to_mask = int(nb_tokens*mask_rate)+1\n",
    "        random_indexes = random.sample(range(0, nb_tokens), nb_tokens_to_mask)\n",
    "        for i in random_indexes:\n",
    "            replace= random.random()\n",
    "            if replace >0.15 :\n",
    "                masked_tokens[i]= \"[MASK]\"\n",
    "                masked_encodings[i]= vocab_dict[\"[MASK]\"]\n",
    "            else :\n",
    "                random_token = random.choice(candidate_tokens)\n",
    "                masked_tokens[i]= random_token\n",
    "                masked_encodings[i]= vocab_dict[random_token]\n",
    "        result_tokens.append(masked_tokens)\n",
    "        result_encodings.append(masked_encodings)\n",
    "        result_indexes.append(random_indexes)\n",
    "    return result_tokens , result_encodings , result_indexes\n",
    "            \n",
    "\n",
    "\n",
    "\n",
    "        \n",
    "        \n",
    "\n",
    "\n",
    "        \n",
    "        "
   ]
  },
  {
   "attachments": {},
   "cell_type": "markdown",
   "metadata": {},
   "source": [
    "i decide to to make a second version that can mask a sequence of tokens , but both work chose what youd like"
   ]
  },
  {
   "cell_type": "code",
   "execution_count": 32,
   "metadata": {},
   "outputs": [],
   "source": [
    "#after tokenization we will pass the tokens to this function to mask random tokens\n",
    "def mask_batch_seq(list_of_tokens , list_of_encoding ,vocab_dict = new_vocab , mask_rate = 0.15):\n",
    "    \n",
    "    result_tokens = []\n",
    "    result_encodings = []\n",
    "    special_tokens= [\"[UNK]\" , \"[CLS]\" , \"[SEP]\" , \"[MASK]\" , \"[PAD]\"]\n",
    "\n",
    "    candidate_tokens = [tok for tok in vocab_dict if tok not in special_tokens]\n",
    "\n",
    "    result_indexes = []\n",
    "    for index in range(len(list_of_tokens)):\n",
    "        masked_tokens=list(list_of_tokens[index])\n",
    "        masked_encodings=list(list_of_encoding[index])\n",
    "        random_indexes=set()\n",
    "\n",
    "        nb_tokens = len(masked_tokens)\n",
    "        nb_tokens_to_mask = int(nb_tokens*mask_rate)+1\n",
    "        while(nb_tokens_to_mask):\n",
    "            mask_sequence_length = random.randint(1,min(3,nb_tokens_to_mask))\n",
    "            start_pos = random.randint(0 ,nb_tokens-mask_sequence_length )\n",
    "            for i in range(start_pos,start_pos+mask_sequence_length):\n",
    "                random_indexes.add(i)\n",
    "                replace= random.random()\n",
    "                if replace >0.3 :\n",
    "                    masked_tokens[i]= \"[MASK]\"\n",
    "                    masked_encodings[i]= vocab_dict[\"[MASK]\"]\n",
    "                else :\n",
    "                    random_token = random.choice(candidate_tokens)\n",
    "                    masked_tokens[i]= random_token\n",
    "                    masked_encodings[i]= vocab_dict[random_token]\n",
    "            nb_tokens_to_mask-=mask_sequence_length\n",
    "            \n",
    "        result_tokens.append(masked_tokens)\n",
    "        result_encodings.append(masked_encodings)\n",
    "        result_indexes.append(list(random_indexes))\n",
    "    return result_tokens , result_encodings , result_indexes\n",
    "            \n",
    "\n",
    "\n",
    "\n",
    "        \n",
    "        "
   ]
  },
  {
   "cell_type": "code",
   "execution_count": 33,
   "metadata": {},
   "outputs": [
    {
     "name": "stdout",
     "output_type": "stream",
     "text": [
      "original           : he made my day\n",
      "original tokens    : ['he made ', 'my d', 'ay']\n",
      "masked tokens      : ['he made ', 'my d', '[MASK]']\n",
      "original encodings : [19716, 5347, 243]\n",
      "masked encodings   : [19716, 5347, 68]\n",
      "mask index         : [2]\n",
      "original           : احلامي بسيييييطة\n",
      "original tokens    : ['احل', 'امي ', 'بس', 'يييي', 'يط', 'ة']\n",
      "masked tokens      : ['احل', 'امي ', 'بس', 'يييي', '[MASK]', 'ة']\n",
      "original encodings : [13511, 10407, 2955, 15092, 6449, 20145]\n",
      "masked encodings   : [13511, 10407, 2955, 15092, 68, 20145]\n",
      "mask index         : [4]\n",
      "original           : عاودولي الصيف النفسية ماهياش جاهزة لتغليف الكتب و الpanier و ال autodicte\n",
      "original tokens    : ['عاود', 'ولي ', 'الصيف ', 'النفسي', 'ة', ' ما', 'هياش ', 'جاهز', 'ة', ' لت', 'غل', 'يف ', 'الك', 'تب', ' و ال', 'pa', 'ni', 'er', ' و ال', ' a', 'ut', 'od', 'ic', 'te']\n",
      "masked tokens      : ['عاود', 'ولي ', 'الصيف ', 'النفسي', 'ة', ' ما', 'هياش ', 'جاهز', '[MASK]', ' لت', 'غل', 'يف ', 'الك', 'تب', ' و ال', 'pa', 'ni', 'er', ' و ال', ' oc', 'ut', 'lanation', 'ic', '[MASK]']\n",
      "original encodings : [6165, 1970, 19497, 19860, 20145, 1845, 12589, 13995, 20145, 17953, 15261, 15342, 1918, 507, 8837, 369, 169, 104, 8837, 77, 287, 394, 122, 100]\n",
      "masked encodings   : [6165, 1970, 19497, 19860, 20145, 1845, 12589, 13995, 68, 17953, 15261, 15342, 1918, 507, 8837, 369, 169, 104, 8837, 7662, 287, 1095, 122, 68]\n",
      "mask index         : [19, 21, 23, 8]\n",
      "original           : عكس ما يقولوا فيروز في الليل خير\n",
      "original tokens    : ['عكس ', 'ما ي', 'قولوا ', 'في', 'رو', 'ز في ', 'الليل ', 'خير']\n",
      "masked tokens      : ['عكس ', '[MASK]', 'قولوا ', 'في', 'رو', ' نروح ', 'الليل ', 'خير']\n",
      "original encodings : [9068, 1646, 13262, 151, 355, 15640, 13437, 1871]\n",
      "masked encodings   : [9068, 68, 13262, 151, 355, 18400, 13437, 1871]\n",
      "mask index         : [1, 5]\n"
     ]
    }
   ],
   "source": [
    "#TEST\n",
    "batch = next(get_chunk(cleaned_data,4))\n",
    "tokens , encodings = tokenize_batch(batch ,new_vocab)\n",
    "masked_tokens ,masked_encodings ,  mask_indexes = mask_batch(tokens, encodings)\n",
    "for i in range(len(batch)):\n",
    "    print(f\"original           : {batch[i]}\")\n",
    "    print(f\"original tokens    : {tokens[i]}\")\n",
    "    print(f\"masked tokens      : {masked_tokens[i]}\")\n",
    "    print(f\"original encodings : {encodings[i]}\")\n",
    "    print(f\"masked encodings   : {masked_encodings[i]}\")\n",
    "    print(f\"mask index         : {mask_indexes[i]}\")"
   ]
  },
  {
   "attachments": {},
   "cell_type": "markdown",
   "metadata": {},
   "source": [
    "# putting the model together\n",
    "\n",
    "DONE WITH MASKING HAMDELLAH\n",
    "\n",
    "NEXT STEP : build the model , to do this we are going to use the embadding model we made , add a big feed forword layer for now ,\n",
    "ofcourse its a bad approach cause theres no way other tokens will be able to know the context of the phrase cause there is no interection between tokens , but for the sake of testing lets see how it performs\n"
   ]
  },
  {
   "attachments": {},
   "cell_type": "markdown",
   "metadata": {},
   "source": [
    "## building a simple model\n"
   ]
  },
  {
   "cell_type": "code",
   "execution_count": 22,
   "metadata": {},
   "outputs": [],
   "source": [
    "\n",
    "class DarjaBert(nn.Module):\n",
    "    def __init__(self , vocab_size , embad_dim , window_size):\n",
    "        super().__init__()\n",
    "        self.embadding_layer = DarjaEmbadding( vocab_size , embad_dim , window_size) # output B T D\n",
    "        self.linear_layer = nn.Sequential(\n",
    "            nn.Linear(in_features=embad_dim , out_features=embad_dim*4),\n",
    "            nn.ReLU(),\n",
    "            nn.Linear(in_features=embad_dim*4 , out_features=embad_dim*8),\n",
    "            nn.ReLU(),\n",
    "            nn.Linear(in_features=embad_dim*8 , out_features=embad_dim*4),\n",
    "            nn.ReLU(),\n",
    "            nn.Linear(in_features=embad_dim*4 , out_features=embad_dim*2),\n",
    "            nn.ReLU(),\n",
    "            nn.Linear(in_features=embad_dim*2 , out_features=vocab_size),\n",
    "\n",
    "        )\n",
    "    def forward(self , batch):\n",
    "        embadded = self.embadding_layer(batch)\n",
    "        return self.linear_layer(embadded)\n",
    "        "
   ]
  },
  {
   "attachments": {},
   "cell_type": "markdown",
   "metadata": {},
   "source": [
    "for faster training will move everything to gpu\n"
   ]
  },
  {
   "cell_type": "code",
   "execution_count": 34,
   "metadata": {},
   "outputs": [
    {
     "data": {
      "text/plain": [
       "'cuda'"
      ]
     },
     "execution_count": 34,
     "metadata": {},
     "output_type": "execute_result"
    }
   ],
   "source": [
    "device = \"cuda\" if torch.cuda.is_available else \"cpu\"\n",
    "device"
   ]
  },
  {
   "attachments": {},
   "cell_type": "markdown",
   "metadata": {},
   "source": [
    "initialize the model , loss function and optimizer\n"
   ]
  },
  {
   "cell_type": "code",
   "execution_count": 24,
   "metadata": {},
   "outputs": [],
   "source": [
    "vocab_size = len(new_vocab)\n",
    "embad_dim=256\n",
    "window_size = 2048\n",
    "darja_modelv0 = DarjaBert(vocab_size,embad_dim,window_size).to(device)\n",
    "\n",
    "lossf = nn.CrossEntropyLoss()\n",
    "optimizer = torch.optim.Adam(darja_modelv0.parameters() , lr=1e-4)"
   ]
  },
  {
   "attachments": {},
   "cell_type": "markdown",
   "metadata": {},
   "source": [
    "training loop\n"
   ]
  },
  {
   "cell_type": "code",
   "execution_count": 35,
   "metadata": {},
   "outputs": [],
   "source": [
    "#helper functionss\n",
    "\n",
    "#this function turn the target encodings into our target by masking everythin but our target encodings\n",
    "def build_target(encodings, mask_indexes_batch):\n",
    "    result = encodings.clone()  \n",
    "\n",
    "    for i, masked_indexes in enumerate(mask_indexes_batch):\n",
    "\n",
    "        for j in range(encodings.shape[1]):\n",
    "            if j not in masked_indexes:\n",
    "                result[i][j] = -100  # to get ignored by cross entropy loss function\n",
    "    return result\n"
   ]
  },
  {
   "cell_type": "markdown",
   "metadata": {},
   "source": [
    "and finally , the training and testing loop"
   ]
  },
  {
   "cell_type": "code",
   "execution_count": null,
   "metadata": {},
   "outputs": [],
   "source": [
    "epochs = 3\n",
    "batch_size = 16\n",
    "\n",
    "train_history = []\n",
    "test_history = []\n",
    "splits = cleaned_data.train_test_split(test_size=0.2)\n",
    "train_data = splits['train']\n",
    "test_data = splits['test']\n",
    "\n",
    "\n",
    "\n",
    "for epoch in range(epochs):\n",
    "    print(\"training...\")\n",
    "    loss_table=[]\n",
    "    for iter ,batch in tqdm.tqdm(enumerate(get_chunk(train_data,chunk_lenght=batch_size))):  \n",
    "        \n",
    "        #n7adhro el batch\n",
    "        tokens , encodings = tokenize_batch(batch ,new_vocab ,trunc = window_size)\n",
    "\n",
    "        masked_tokens ,masked_encodings ,  mask_indexes = mask_batch(tokens, encodings)\n",
    "        train_batch = to_tensor(masked_encodings , new_vocab ,window_size).to(device)\n",
    "        target_batch = to_tensor(encodings ,  new_vocab ,window_size).to(device)\n",
    "\n",
    "        target_batch = build_target(target_batch , mask_indexes).to(device)\n",
    "\n",
    "        # nebdaw el train\n",
    "\n",
    "        darja_modelv0.train()\n",
    "\n",
    "        y_pred = darja_modelv0(train_batch)\n",
    "\n",
    "        loss = lossf(y_pred.view(-1, vocab_size), target_batch.view(-1))\n",
    "        loss_table.append(loss.item())\n",
    "        optimizer.zero_grad()\n",
    "\n",
    "        loss.backward()\n",
    "\n",
    "        optimizer.step()\n",
    "        del y_pred, loss, target_batch ,train_batch\n",
    "        torch.cuda.empty_cache()\n",
    "        if iter % 50 ==0:\n",
    "            loss_avrg = sum(loss_table) / len(loss_table)\n",
    "            train_history.append(loss_avrg)\n",
    "            print(f\"train loss : {loss_avrg} \")\n",
    "            loss_table.clear()\n",
    "    if loss_table:\n",
    "        loss_avrg = sum(loss_table) / len(loss_table)\n",
    "        train_history.append(loss_avrg)\n",
    "        print(f\"train loss : {loss_avrg} \")\n",
    "        loss_table.clear()\n",
    "\n",
    "\n",
    "    print(\"testing...\")\n",
    "    test_loss_table = []\n",
    "\n",
    "    darja_modelv0.eval()\n",
    "    with torch.inference_mode() :\n",
    "        for iter ,batch in tqdm.tqdm(enumerate(get_chunk(test_data,chunk_lenght=batch_size))):  \n",
    "            \n",
    "            #n7adhro el batch\n",
    "            tokens , encodings = tokenize_batch(batch ,new_vocab ,trunc = window_size)\n",
    "\n",
    "            masked_tokens ,masked_encodings ,  mask_indexes = mask_batch(tokens, encodings)\n",
    "            test_batch = to_tensor(masked_encodings , new_vocab ,window_size).to(device)\n",
    "            target_batch = to_tensor(encodings ,  new_vocab ,window_size).to(device)\n",
    "\n",
    "            target_batch = build_target(target_batch , mask_indexes)\n",
    "\n",
    "            # nebdaw el test\n",
    "\n",
    "            y_pred = darja_modelv0(test_batch)\n",
    "\n",
    "            loss = lossf(y_pred.view(-1, vocab_size), target_batch.view(-1))\n",
    "\n",
    "\n",
    "            test_loss_table.append(loss.item())\n",
    "            #for lack of enaugh ressources , i had to add these line ( helps with ram exaughtion by deleting unused tensors , but causese slow issues \n",
    "            del y_pred, loss, target_batch ,test_batch\n",
    "            torch.cuda.empty_cache()\n",
    "\n",
    "            if iter % 50 == 0:\n",
    "                test_avg = sum(test_loss_table) / len(test_loss_table)\n",
    "                test_history.append(test_avg)\n",
    "                print(f\"test loss : {test_avg}\")\n",
    "                test_loss_table.clear()\n",
    "        if test_loss_table:\n",
    "            test_avg = sum(test_loss_table) / len(test_loss_table)\n",
    "            test_history.append(test_avg)\n",
    "            print(f\"test loss : {test_avg}\")\n",
    "            test_loss_table.clear()\n",
    "\n",
    "\n",
    "        print(f\"test loss : {loss.item()} \")\n",
    "\n"
   ]
  },
  {
   "attachments": {},
   "cell_type": "markdown",
   "metadata": {},
   "source": [
    "i had to stop it since the loss is not going down anymore , which makes total sense, whith this architecture there is no connection between different tokens , each token passes through the model on its own (due to the feedforward achitecture) with no context of the total phrase , there is no why it could predict the right token\n"
   ]
  },
  {
   "attachments": {},
   "cell_type": "markdown",
   "metadata": {},
   "source": [
    "there for ,we need an architecture that could give ATTENTION to other tokens at the same time , and here we meet\n"
   ]
  },
  {
   "attachments": {},
   "cell_type": "markdown",
   "metadata": {},
   "source": [
    "## THE TRANSFORMER ARCHITECTURE RAAAAAAAAAAAAAAA\n",
    "\n",
    "## -specificaly THE TRANSFORMER ENCODER ARCHITECTURE\n"
   ]
  },
  {
   "attachments": {},
   "cell_type": "markdown",
   "metadata": {},
   "source": [
    "since the encoder is made up of different complex blocks (aka self-attention heads, normalization layers , feedforword networks ) its a good approach to create a class for each one finaly creating a main block AKA an EncoderBlock \n",
    "\n",
    "then we can stack how ever many blocks we want in the main DarjaModel"
   ]
  },
  {
   "attachments": {},
   "cell_type": "markdown",
   "metadata": {},
   "source": [
    "im not gonna lie you need to watch some videos and read some papers to understand the next part , i recommend 3Blue1brown play list https://youtu.be/eMlx5fFNoYc?si=20CD4vJSiSN6l0MV\n",
    "and reading the original transformer paper \n",
    "\n",
    "\n"
   ]
  },
  {
   "attachments": {},
   "cell_type": "markdown",
   "metadata": {},
   "source": [
    "the first component is a basic but crucial mathmetical equation \n",
    "Attention(Q, K, V ) = softmax(Q*K.T/√dk)*V\n",
    "it will be applied to each head of the multihead attention layer\n"
   ]
  },
  {
   "cell_type": "code",
   "execution_count": 36,
   "metadata": {},
   "outputs": [],
   "source": [
    "class ScaledDotProductAttention(nn.Module):  \n",
    "    def __init__(self ,K_dim ):\n",
    "        super().__init__()\n",
    "        self.K_dim = K_dim\n",
    "        self.sm = nn.Softmax(dim=-1) # bech napplico 3al last dimention (softmax by default value is dim= 1)\n",
    "    def forward(self   ,K ,Q, V) :\n",
    "\n",
    "        return self.sm((Q@K.transpose(-1 ,-2)) / self.K_dim**0.5)@V \n",
    "        \n"
   ]
  },
  {
   "attachments": {},
   "cell_type": "markdown",
   "metadata": {},
   "source": [
    "this is the heart of the encoder , the multi-head-attention layer in simpler terms finds the relationship between each token with each other token in the phrase,  to find more relationships we devide the embadding layer on the number of heads , then we concatinate them all together to then be passed by a linear layer\n",
    "to prevent overfitting we add a dropout layer at the end of it all"
   ]
  },
  {
   "cell_type": "code",
   "execution_count": 37,
   "metadata": {},
   "outputs": [],
   "source": [
    "\n",
    "class MultiAttentionHead(nn.Module):\n",
    "    def __init__(self ,head_num , embad_dim):\n",
    "        super().__init__()\n",
    "        self.head_num = head_num\n",
    "        self.embad_dim = embad_dim\n",
    "        self.head_dim = embad_dim//head_num\n",
    "        self.scaled_dot_attention = ScaledDotProductAttention(self.head_dim)\n",
    "\n",
    "        self.K = nn.Linear(in_features=embad_dim , out_features=embad_dim)\n",
    "        self.Q = nn.Linear(in_features= embad_dim , out_features=embad_dim)\n",
    "        self.V = nn.Linear(in_features= embad_dim, out_features=embad_dim)\n",
    "        self.ll = nn.Sequential(\n",
    "            nn.Linear( in_features=embad_dim , out_features=embad_dim) ,\n",
    "            nn.Dropout(0.05)\n",
    "        )\n",
    "    def  forward(self ,batch ):\n",
    "\n",
    "        K_res = self.K(batch)\n",
    "        Q_res = self.Q(batch)\n",
    "        V_res = self.V(batch)\n",
    "        K_res = K_res.reshape((K_res.shape[0] , K_res.shape[1] , self.head_num,   self.head_dim)).transpose(1 , 2) \n",
    "        Q_res = Q_res.reshape((Q_res.shape[0] , Q_res.shape[1] , self.head_num ,  self.head_dim)).transpose(1 , 2)\n",
    "        V_res = V_res.reshape((V_res.shape[0] , V_res.shape[1] ,  self.head_num , self.head_dim)).transpose(1 , 2)\n",
    "\n",
    "\n",
    "\n",
    "        attention_res = self.scaled_dot_attention(K_res , Q_res ,V_res)\n",
    "\n",
    "        #concat\n",
    "        concated = attention_res.transpose(1 ,2)\n",
    "        concated = concated.reshape((concated.shape[0] , concated.shape[1] , self.embad_dim) )\n",
    "\n",
    "        return self.ll(concated)\n",
    "\n",
    "\n",
    "        \n"
   ]
  },
  {
   "attachments": {},
   "cell_type": "markdown",
   "metadata": {},
   "source": [
    "the multiheadattention and the ffn are sublayers , after each sublayer we pass the output and the original input through an add and normalize layer , its works as the following  \n",
    "x= original input to the sublayer  \n",
    "y = output of the sublayer  \n",
    "normalized = normalization(x+y) = ((x+y) - mean) / std        # standered deviation  \n",
    "result=  G*(x+y)+ B  \n",
    "with G and B being a learnable vectors of size embad_dim  \n",
    "for better results its recommended to initiat G as vector of one and B as vector of 0 because starting at a random value could cause this layer to distored the signal , its better to start with it having no effect then making it learn the best values"
   ]
  },
  {
   "cell_type": "code",
   "execution_count": 38,
   "metadata": {},
   "outputs": [],
   "source": [
    "class LayerNorm(nn.Module):\n",
    "    def __init__(self ,  embad_dim ):\n",
    "        super().__init__()\n",
    "        self.gamma = nn.Parameter(torch.ones(embad_dim,) ,  requires_grad=True)\n",
    "        self.beta = nn.Parameter(torch.zeros(embad_dim,) ,  requires_grad=True)\n",
    "    def forward(self , original : torch.Tensor , sublayer_output):\n",
    "        add = original + sublayer_output\n",
    "        mean = add.mean(dim=-1,keepdim=True)\n",
    "        stand_div = add.std(dim=-1 , keepdim=True) + 1e-4 # just in case el std ta7 lel 0\n",
    "        result = (add - mean)/stand_div\n",
    "        return self.gamma * result + self.beta\n"
   ]
  },
  {
   "attachments": {},
   "cell_type": "markdown",
   "metadata": {},
   "source": [
    "the final sublayer of the encoder is the ffn (a basic feedforwardnetwork) we pass our batch of dim (B,T,D) , augment it , pass it by an activation function , then reduce the dimention back to its original shape , and as usual add a dropout layer to fight against overfitting"
   ]
  },
  {
   "cell_type": "code",
   "execution_count": 39,
   "metadata": {},
   "outputs": [],
   "source": [
    "class FeedForward(nn.Module):\n",
    "    def __init__(self  , embad_dim):\n",
    "        super().__init__()\n",
    "        self.ffn = nn.Sequential(\n",
    "            nn.Linear(in_features=embad_dim , out_features=embad_dim*4),\n",
    "            nn.GELU(),            \n",
    "            nn.Linear(in_features=embad_dim*4 , out_features=embad_dim),\n",
    "            nn.Dropout(0.05)\n",
    "        )\n",
    "\n",
    "    def forward(self,batch):\n",
    "        return self.ffn(batch)\n"
   ]
  },
  {
   "attachments": {},
   "cell_type": "markdown",
   "metadata": {},
   "source": [
    "THE ENCODER BLOCK RAAAAAAA  \n",
    "we merge all those layer and pass the data through each one , one by one "
   ]
  },
  {
   "cell_type": "code",
   "execution_count": 40,
   "metadata": {},
   "outputs": [],
   "source": [
    "class EncoderBlock(nn.Module):\n",
    "    def __init__(self , head_num , embad_dim):\n",
    "        super().__init__()\n",
    "        self.head_num = head_num\n",
    "        self.embad_dim = embad_dim\n",
    "        self.multiHeadAttention = MultiAttentionHead(head_num , embad_dim)\n",
    "        self.addnorm1 = LayerNorm(embad_dim)\n",
    "        self.ffn = FeedForward(embad_dim)\n",
    "        self.addnorm2 = LayerNorm(embad_dim)\n",
    "\n",
    "    def forward(self, batch):\n",
    "        sublayer1_res =self.addnorm1(batch ,self.multiHeadAttention(batch))\n",
    "        return self.addnorm2(sublayer1_res , self.ffn(sublayer1_res))\n",
    "\n",
    "        "
   ]
  },
  {
   "attachments": {},
   "cell_type": "markdown",
   "metadata": {},
   "source": [
    "and now , to build our model , we first add how ever many encoderblocks we want , and at the end , add the classification layer we want , for our base case , masked token classification  , our output will be of size vocab_dict , FOR EACH TOKEN :\\"
   ]
  },
  {
   "cell_type": "code",
   "execution_count": 41,
   "metadata": {},
   "outputs": [],
   "source": [
    "#finaaallyyy , the darjaa modelll\n",
    "\n",
    "class DarjaBERT(nn.Module):\n",
    "    def __init__(self , vocab_size , embad_dim , window_size):\n",
    "\n",
    "        super().__init__()\n",
    "        self.embadding_layer = DarjaEmbadding( vocab_size , embad_dim , window_size) # output B T D\n",
    "        self.encoder1 = EncoderBlock(8 ,embad_dim)\n",
    "        self.encoder2 = EncoderBlock(8 ,embad_dim)\n",
    "        self.encoder3 = EncoderBlock(8 ,embad_dim)\n",
    "        self.encoder4 = EncoderBlock(8 ,embad_dim)\n",
    "        self.encoder5 = EncoderBlock(8 ,embad_dim)\n",
    "        self.encoder6 = EncoderBlock(8 ,embad_dim)\n",
    "        self.classification_layer = nn.Sequential(\n",
    "            nn.Linear(in_features=embad_dim , out_features=embad_dim),\n",
    "            nn.ReLU(),\n",
    "            nn.Linear(in_features=embad_dim , out_features=vocab_size),\n",
    "\n",
    "        )\n",
    "    def forward(self , batch):\n",
    "        return self.classification_layer(self.encoder6(self.encoder6(self.encoder4(self.encoder3(self.encoder2(self.encoder1(self.embadding_layer(batch))))))))"
   ]
  },
  {
   "attachments": {},
   "cell_type": "markdown",
   "metadata": {},
   "source": [
    "as usual , before training , we should setup our model , loss function , and optimizer   \n",
    "btw those hyperparameters were chosen after ALOT OF TRIAL (IM TIRED)"
   ]
  },
  {
   "cell_type": "code",
   "execution_count": 42,
   "metadata": {},
   "outputs": [],
   "source": [
    "vocab_size = len(new_vocab)\n",
    "embad_dim=256\n",
    "window_size = 512\n",
    "darja_model = DarjaBERT(vocab_size,embad_dim,window_size).to(device)\n",
    "\n",
    "lossf = nn.CrossEntropyLoss()\n",
    "optimizer = torch.optim.AdamW(darja_model.parameters() , lr=5e-5 , weight_decay=0.01)"
   ]
  },
  {
   "attachments": {},
   "cell_type": "markdown",
   "metadata": {},
   "source": [
    "due to training locally on my not so powerfull but good enaugh rtx 4060 8 gb vram , training wont be so fast , it takes days , so to not lose progress (or more like not lose any more progress , (i lost alot :( ))) i updated the training loop to save progress every 1000 steps "
   ]
  },
  {
   "cell_type": "code",
   "execution_count": 47,
   "metadata": {},
   "outputs": [
    {
     "name": "stdout",
     "output_type": "stream",
     "text": [
      "loading old data \n",
      "check point found\n",
      "4\n",
      "355200\n",
      "training...\n"
     ]
    },
    {
     "name": "stderr",
     "output_type": "stream",
     "text": [
      "101it [01:07,  2.47it/s]"
     ]
    },
    {
     "name": "stdout",
     "output_type": "stream",
     "text": [
      "train loss : 3.7198907550018614 \n"
     ]
    },
    {
     "name": "stderr",
     "output_type": "stream",
     "text": [
      "201it [01:49,  2.60it/s]"
     ]
    },
    {
     "name": "stdout",
     "output_type": "stream",
     "text": [
      "train loss : 3.686530454158783 \n"
     ]
    },
    {
     "name": "stderr",
     "output_type": "stream",
     "text": [
      "301it [02:31,  2.14it/s]"
     ]
    },
    {
     "name": "stdout",
     "output_type": "stream",
     "text": [
      "train loss : 3.71625403881073 \n"
     ]
    },
    {
     "name": "stderr",
     "output_type": "stream",
     "text": [
      "400it [03:19,  2.64it/s]"
     ]
    },
    {
     "name": "stdout",
     "output_type": "stream",
     "text": [
      "train loss : 3.6324666237831114 \n"
     ]
    },
    {
     "name": "stderr",
     "output_type": "stream",
     "text": [
      "500it [04:10,  2.95it/s]"
     ]
    },
    {
     "name": "stdout",
     "output_type": "stream",
     "text": [
      "train loss : 3.670189802646637 \n"
     ]
    },
    {
     "name": "stderr",
     "output_type": "stream",
     "text": [
      "601it [05:00,  2.13it/s]"
     ]
    },
    {
     "name": "stdout",
     "output_type": "stream",
     "text": [
      "train loss : 3.6284261322021485 \n"
     ]
    },
    {
     "name": "stderr",
     "output_type": "stream",
     "text": [
      "701it [05:48,  1.97it/s]"
     ]
    },
    {
     "name": "stdout",
     "output_type": "stream",
     "text": [
      "train loss : 3.591155562400818 \n"
     ]
    },
    {
     "name": "stderr",
     "output_type": "stream",
     "text": [
      "801it [06:32,  2.23it/s]"
     ]
    },
    {
     "name": "stdout",
     "output_type": "stream",
     "text": [
      "train loss : 3.666933798789978 \n"
     ]
    },
    {
     "name": "stderr",
     "output_type": "stream",
     "text": [
      "901it [07:16,  2.49it/s]"
     ]
    },
    {
     "name": "stdout",
     "output_type": "stream",
     "text": [
      "train loss : 3.69001323223114 \n"
     ]
    },
    {
     "name": "stderr",
     "output_type": "stream",
     "text": [
      "1000it [08:01,  2.21it/s]"
     ]
    },
    {
     "name": "stdout",
     "output_type": "stream",
     "text": [
      "train loss : 3.678540961742401 \n"
     ]
    },
    {
     "name": "stderr",
     "output_type": "stream",
     "text": [
      "1101it [08:52,  2.58it/s]"
     ]
    },
    {
     "name": "stdout",
     "output_type": "stream",
     "text": [
      "train loss : 3.565786955356598 \n"
     ]
    },
    {
     "name": "stderr",
     "output_type": "stream",
     "text": [
      "1201it [09:43,  2.18it/s]"
     ]
    },
    {
     "name": "stdout",
     "output_type": "stream",
     "text": [
      "train loss : 3.685308656692505 \n"
     ]
    },
    {
     "name": "stderr",
     "output_type": "stream",
     "text": [
      "1301it [10:27,  2.11it/s]"
     ]
    },
    {
     "name": "stdout",
     "output_type": "stream",
     "text": [
      "train loss : 3.5639486384391783 \n"
     ]
    },
    {
     "name": "stderr",
     "output_type": "stream",
     "text": [
      "1401it [11:13,  1.90it/s]"
     ]
    },
    {
     "name": "stdout",
     "output_type": "stream",
     "text": [
      "train loss : 3.6582046270370485 \n"
     ]
    },
    {
     "name": "stderr",
     "output_type": "stream",
     "text": [
      "1501it [11:57,  2.55it/s]"
     ]
    },
    {
     "name": "stdout",
     "output_type": "stream",
     "text": [
      "train loss : 3.6132857739925384 \n"
     ]
    },
    {
     "name": "stderr",
     "output_type": "stream",
     "text": [
      "1600it [12:46,  2.67it/s]"
     ]
    },
    {
     "name": "stdout",
     "output_type": "stream",
     "text": [
      "train loss : 3.7072993326187134 \n"
     ]
    },
    {
     "name": "stderr",
     "output_type": "stream",
     "text": [
      "1701it [13:40,  1.19it/s]"
     ]
    },
    {
     "name": "stdout",
     "output_type": "stream",
     "text": [
      "train loss : 3.7324403071403505 \n"
     ]
    },
    {
     "name": "stderr",
     "output_type": "stream",
     "text": [
      "1801it [14:25,  1.78it/s]"
     ]
    },
    {
     "name": "stdout",
     "output_type": "stream",
     "text": [
      "train loss : 3.6427250516414644 \n"
     ]
    },
    {
     "name": "stderr",
     "output_type": "stream",
     "text": [
      "1901it [15:09,  2.02it/s]"
     ]
    },
    {
     "name": "stdout",
     "output_type": "stream",
     "text": [
      "train loss : 3.6598622965812684 \n"
     ]
    },
    {
     "name": "stderr",
     "output_type": "stream",
     "text": [
      "2001it [15:55,  2.21it/s]"
     ]
    },
    {
     "name": "stdout",
     "output_type": "stream",
     "text": [
      "train loss : 3.5978610730171203 \n"
     ]
    },
    {
     "name": "stderr",
     "output_type": "stream",
     "text": [
      "2101it [16:38,  1.93it/s]"
     ]
    },
    {
     "name": "stdout",
     "output_type": "stream",
     "text": [
      "train loss : 3.580254554748535 \n"
     ]
    },
    {
     "name": "stderr",
     "output_type": "stream",
     "text": [
      "2200it [17:27,  1.55it/s]"
     ]
    },
    {
     "name": "stdout",
     "output_type": "stream",
     "text": [
      "train loss : 3.586145122051239 \n"
     ]
    },
    {
     "name": "stderr",
     "output_type": "stream",
     "text": [
      "2301it [18:13,  2.83it/s]"
     ]
    },
    {
     "name": "stdout",
     "output_type": "stream",
     "text": [
      "train loss : 3.583846504688263 \n"
     ]
    },
    {
     "name": "stderr",
     "output_type": "stream",
     "text": [
      "2401it [19:00,  2.41it/s]"
     ]
    },
    {
     "name": "stdout",
     "output_type": "stream",
     "text": [
      "train loss : 3.6424536538124084 \n"
     ]
    },
    {
     "name": "stderr",
     "output_type": "stream",
     "text": [
      "2501it [19:41,  2.13it/s]"
     ]
    },
    {
     "name": "stdout",
     "output_type": "stream",
     "text": [
      "train loss : 3.648628420829773 \n"
     ]
    },
    {
     "name": "stderr",
     "output_type": "stream",
     "text": [
      "2601it [20:23,  2.15it/s]"
     ]
    },
    {
     "name": "stdout",
     "output_type": "stream",
     "text": [
      "train loss : 3.6062947416305544 \n"
     ]
    },
    {
     "name": "stderr",
     "output_type": "stream",
     "text": [
      "2701it [21:05,  2.31it/s]"
     ]
    },
    {
     "name": "stdout",
     "output_type": "stream",
     "text": [
      "train loss : 3.7902157354354857 \n"
     ]
    },
    {
     "name": "stderr",
     "output_type": "stream",
     "text": [
      "2800it [21:53,  1.32s/it]"
     ]
    },
    {
     "name": "stdout",
     "output_type": "stream",
     "text": [
      "train loss : 3.689290990829468 \n"
     ]
    },
    {
     "name": "stderr",
     "output_type": "stream",
     "text": [
      "2900it [22:46,  1.63it/s]"
     ]
    },
    {
     "name": "stdout",
     "output_type": "stream",
     "text": [
      "train loss : 3.6289433526992796 \n"
     ]
    },
    {
     "name": "stderr",
     "output_type": "stream",
     "text": [
      "3001it [23:34,  1.93it/s]"
     ]
    },
    {
     "name": "stdout",
     "output_type": "stream",
     "text": [
      "train loss : 3.5736806178092957 \n"
     ]
    },
    {
     "name": "stderr",
     "output_type": "stream",
     "text": [
      "3101it [24:19,  2.08it/s]"
     ]
    },
    {
     "name": "stdout",
     "output_type": "stream",
     "text": [
      "train loss : 3.5838480651378632 \n"
     ]
    },
    {
     "name": "stderr",
     "output_type": "stream",
     "text": [
      "3201it [25:05,  2.00it/s]"
     ]
    },
    {
     "name": "stdout",
     "output_type": "stream",
     "text": [
      "train loss : 3.60456027507782 \n"
     ]
    },
    {
     "name": "stderr",
     "output_type": "stream",
     "text": [
      "3301it [25:52,  1.95it/s]"
     ]
    },
    {
     "name": "stdout",
     "output_type": "stream",
     "text": [
      "train loss : 3.696858285665512 \n"
     ]
    },
    {
     "name": "stderr",
     "output_type": "stream",
     "text": [
      "3401it [26:38,  2.08it/s]"
     ]
    },
    {
     "name": "stdout",
     "output_type": "stream",
     "text": [
      "train loss : 3.6436022305488587 \n"
     ]
    },
    {
     "name": "stderr",
     "output_type": "stream",
     "text": [
      "3500it [27:29,  1.31it/s]"
     ]
    },
    {
     "name": "stdout",
     "output_type": "stream",
     "text": [
      "train loss : 3.5700430810451507 \n"
     ]
    },
    {
     "name": "stderr",
     "output_type": "stream",
     "text": [
      "3600it [28:35,  1.87it/s]"
     ]
    },
    {
     "name": "stdout",
     "output_type": "stream",
     "text": [
      "train loss : 3.6276571416854857 \n"
     ]
    },
    {
     "name": "stderr",
     "output_type": "stream",
     "text": [
      "3701it [29:25,  2.08it/s]"
     ]
    },
    {
     "name": "stdout",
     "output_type": "stream",
     "text": [
      "train loss : 3.7021967720985414 \n"
     ]
    },
    {
     "name": "stderr",
     "output_type": "stream",
     "text": [
      "3801it [30:12,  2.14it/s]"
     ]
    },
    {
     "name": "stdout",
     "output_type": "stream",
     "text": [
      "train loss : 3.6377049350738524 \n"
     ]
    },
    {
     "name": "stderr",
     "output_type": "stream",
     "text": [
      "3901it [30:58,  2.06it/s]"
     ]
    },
    {
     "name": "stdout",
     "output_type": "stream",
     "text": [
      "train loss : 3.673709828853607 \n"
     ]
    },
    {
     "name": "stderr",
     "output_type": "stream",
     "text": [
      "4001it [31:44,  1.89it/s]"
     ]
    },
    {
     "name": "stdout",
     "output_type": "stream",
     "text": [
      "train loss : 3.7468317568302156 \n"
     ]
    },
    {
     "name": "stderr",
     "output_type": "stream",
     "text": [
      "4101it [32:28,  1.97it/s]"
     ]
    },
    {
     "name": "stdout",
     "output_type": "stream",
     "text": [
      "train loss : 3.7456189465522765 \n"
     ]
    },
    {
     "name": "stderr",
     "output_type": "stream",
     "text": [
      "4201it [33:18,  1.22it/s]"
     ]
    },
    {
     "name": "stdout",
     "output_type": "stream",
     "text": [
      "train loss : 3.6075255465507508 \n"
     ]
    },
    {
     "name": "stderr",
     "output_type": "stream",
     "text": [
      "4240it [33:29,  2.11it/s]\n"
     ]
    },
    {
     "ename": "KeyboardInterrupt",
     "evalue": "",
     "output_type": "error",
     "traceback": [
      "\u001b[31m---------------------------------------------------------------------------\u001b[39m",
      "\u001b[31mKeyboardInterrupt\u001b[39m                         Traceback (most recent call last)",
      "\u001b[36mCell\u001b[39m\u001b[36m \u001b[39m\u001b[32mIn[47]\u001b[39m\u001b[32m, line 39\u001b[39m\n\u001b[32m     36\u001b[39m train_batch = to_tensor(masked_encodings , new_vocab ,window_size).to(device)\n\u001b[32m     37\u001b[39m target_batch = to_tensor(encodings ,  new_vocab ,window_size).to(device)\n\u001b[32m---> \u001b[39m\u001b[32m39\u001b[39m target_batch = \u001b[43mbuild_target\u001b[49m\u001b[43m(\u001b[49m\u001b[43mtarget_batch\u001b[49m\u001b[43m \u001b[49m\u001b[43m,\u001b[49m\u001b[43m \u001b[49m\u001b[43mmask_indexes\u001b[49m\u001b[43m)\u001b[49m.to(device)\n\u001b[32m     41\u001b[39m \u001b[38;5;66;03m# nebdaw el train\u001b[39;00m\n\u001b[32m     43\u001b[39m darja_model.train()\n",
      "\u001b[36mCell\u001b[39m\u001b[36m \u001b[39m\u001b[32mIn[24]\u001b[39m\u001b[32m, line 11\u001b[39m, in \u001b[36mbuild_target\u001b[39m\u001b[34m(encodings, mask_indexes_batch)\u001b[39m\n\u001b[32m      9\u001b[39m     \u001b[38;5;28;01mfor\u001b[39;00m j \u001b[38;5;129;01min\u001b[39;00m \u001b[38;5;28mrange\u001b[39m(encodings.shape[\u001b[32m1\u001b[39m]):\n\u001b[32m     10\u001b[39m         \u001b[38;5;28;01mif\u001b[39;00m j \u001b[38;5;129;01mnot\u001b[39;00m \u001b[38;5;129;01min\u001b[39;00m masked_indexes:\n\u001b[32m---> \u001b[39m\u001b[32m11\u001b[39m             result[i][j] = -\u001b[32m100\u001b[39m  \u001b[38;5;66;03m# to get ignored by cross entropy loss function\u001b[39;00m\n\u001b[32m     12\u001b[39m \u001b[38;5;28;01mreturn\u001b[39;00m result\n",
      "\u001b[31mKeyboardInterrupt\u001b[39m: "
     ]
    }
   ],
   "source": [
    "epochs = 10\n",
    "batch_size = 8\n",
    "\n",
    "splits = cleaned_data.train_test_split(test_size=0.2)\n",
    "train_data = splits['train']\n",
    "test_data = splits['test']\n",
    "\n",
    "try:\n",
    "    print(\"loading old data \")\n",
    "    checkpoint = torch.load(\"training_state.pt\")\n",
    "    print(\"check point found\")\n",
    "    train_history = checkpoint['train_history']\n",
    "    test_history = checkpoint['test_history']\n",
    "    start = checkpoint['start']\n",
    "    resume_epoch = checkpoint['epoch']\n",
    "    darja_model.load_state_dict(torch.load(\"darja_model.pt\"))\n",
    "    print(epoch)\n",
    "    print(start)\n",
    "\n",
    "except:\n",
    "    print(\"starting new \")\n",
    "    train_history = []\n",
    "    test_history = []\n",
    "    start = 0\n",
    "    resume_epoch = 0\n",
    "\n",
    "for epoch in range(resume_epoch, epochs):\n",
    "    print(\"training...\")\n",
    "    loss_table=[]\n",
    "    for iter ,batch in tqdm.tqdm(enumerate(get_chunk(train_data,chunk_lenght=batch_size , start=start))):  \n",
    "        \n",
    "        #n7adhro el batch\n",
    "        tokens , encodings = tokenize_batch(batch ,new_vocab ,trunc = window_size)\n",
    "\n",
    "        masked_tokens ,masked_encodings ,  mask_indexes = mask_batch(tokens, encodings)\n",
    "        train_batch = to_tensor(masked_encodings , new_vocab ,window_size).to(device)\n",
    "        target_batch = to_tensor(encodings ,  new_vocab ,window_size).to(device)\n",
    "\n",
    "        target_batch = build_target(target_batch , mask_indexes).to(device)\n",
    "\n",
    "        # nebdaw el train\n",
    "\n",
    "        darja_model.train()\n",
    "\n",
    "        y_pred = darja_model(train_batch)\n",
    "\n",
    "        loss = lossf(y_pred.view(-1, vocab_size), target_batch.view(-1))\n",
    "        loss_table.append(loss.item())\n",
    "        optimizer.zero_grad()\n",
    "\n",
    "        loss.backward()\n",
    "\n",
    "        optimizer.step()\n",
    "        \"\"\"del y_pred, loss, target_batch ,train_batch\n",
    "        torch.cuda.empty_cache()\"\"\"\n",
    "        #for lack of enaugh ressources , i had to add these line ( helps with ram exaughtion by deleting unused tensors , but causese slow issues \n",
    "        if iter!=0 and iter % 100 ==0:\n",
    "            loss_avrg = sum(loss_table) / len(loss_table)\n",
    "            train_history.append(loss_avrg)\n",
    "            print(f\"train loss : {loss_avrg} \")\n",
    "            loss_table.clear()\n",
    "        #added this part cause it takes a looonnng long time and  i kept losing all my progress\n",
    "        if iter!=0 and iter% 100==0:\n",
    "            #nsavio el progress every 1000 steps\n",
    "            torch.save({\n",
    "                'train_history': train_history,\n",
    "                'test_history': test_history,\n",
    "                'start': start + iter * batch_size,\n",
    "                'epoch': epoch\n",
    "            }, \"training_state.pt\")\n",
    "            torch.save(darja_model.state_dict(), \"darja_model.pt\")\n",
    "    if loss_table:\n",
    "        loss_avrg = sum(loss_table) / len(loss_table)\n",
    "        train_history.append(loss_avrg)\n",
    "        print(f\"train loss : {loss_avrg} \")\n",
    "        loss_table.clear()\n",
    "    print(\"testing...\")\n",
    "    test_loss_table = []\n",
    "\n",
    "    darja_model.eval()\n",
    "    with torch.inference_mode() :\n",
    "        for test_iter ,batch in tqdm.tqdm(enumerate(get_chunk(test_data,chunk_lenght=batch_size))):  \n",
    "            \n",
    "            #n7adhro el batch\n",
    "            tokens , encodings = tokenize_batch(batch ,new_vocab ,trunc = window_size)\n",
    "\n",
    "            masked_tokens ,masked_encodings ,  mask_indexes = mask_batch(tokens, encodings)\n",
    "            test_batch = to_tensor(masked_encodings , new_vocab ,window_size).to(device)\n",
    "            target_batch = to_tensor(encodings ,  new_vocab ,window_size).to(device)\n",
    "\n",
    "            target_batch = build_target(target_batch , mask_indexes)\n",
    "\n",
    "            # nebdaw el test\n",
    "\n",
    "            y_pred = darja_model(test_batch)\n",
    "\n",
    "            loss = lossf(y_pred.view(-1, vocab_size), target_batch.view(-1))\n",
    "\n",
    "\n",
    "            test_loss_table.append(loss.item())\n",
    "            del y_pred, loss, target_batch ,test_batch\n",
    "            torch.cuda.empty_cache()\n",
    "\n",
    "            if test_iter % 100 == 0:\n",
    "                test_avg = sum(test_loss_table) / len(test_loss_table)\n",
    "                test_history.append(test_avg)\n",
    "                print(f\"test loss : {test_avg}\")\n",
    "                test_loss_table.clear()\n",
    "        if test_loss_table:\n",
    "            test_avg = sum(test_loss_table) / len(test_loss_table)\n",
    "            test_history.append(test_avg)\n",
    "            print(f\"test loss : {test_avg}\")\n",
    "            test_loss_table.clear()\n",
    "\n",
    "\n",
    "    \n",
    "\n",
    "\n",
    "        print(f\"test loss : {loss.item()} \")\n",
    "    start = 0\n"
   ]
  },
  {
   "cell_type": "code",
   "execution_count": 48,
   "metadata": {},
   "outputs": [
    {
     "data": {
      "text/plain": [
       "7126"
      ]
     },
     "execution_count": 48,
     "metadata": {},
     "output_type": "execute_result"
    }
   ],
   "source": [
    "len(train_history)"
   ]
  },
  {
   "cell_type": "code",
   "execution_count": 49,
   "metadata": {},
   "outputs": [
    {
     "data": {
      "text/plain": [
       "3.6075255465507508"
      ]
     },
     "execution_count": 49,
     "metadata": {},
     "output_type": "execute_result"
    }
   ],
   "source": [
    "train_history[-1]"
   ]
  },
  {
   "cell_type": "markdown",
   "metadata": {},
   "source": []
  },
  {
   "cell_type": "code",
   "execution_count": 57,
   "metadata": {},
   "outputs": [
    {
     "data": {
      "text/plain": [
       "3.5034353804588316"
      ]
     },
     "execution_count": 57,
     "metadata": {},
     "output_type": "execute_result"
    }
   ],
   "source": [
    "test_history[-1]"
   ]
  },
  {
   "attachments": {},
   "cell_type": "markdown",
   "metadata": {},
   "source": [
    "Lets plot our training history to see the loss curve "
   ]
  },
  {
   "cell_type": "code",
   "execution_count": 53,
   "metadata": {},
   "outputs": [
    {
     "data": {
      "image/png": "[encoded data removed]",
      "text/plain": [
       "<Figure size 640x480 with 1 Axes>"
      ]
     },
     "metadata": {},
     "output_type": "display_data"
    }
   ],
   "source": [
    "import matplotlib.pyplot as plt\n",
    "\n",
    "plt.plot(train_history[10:])\n",
    "plt.title(\"Train Loss Over Time\")\n",
    "plt.xlabel(\"Checkpoint\")\n",
    "plt.ylabel(\"Loss\")\n",
    "plt.grid()\n",
    "plt.show()"
   ]
  },
  {
   "attachments": {},
   "cell_type": "markdown",
   "metadata": {},
   "source": [
    "looks yesser da5el ba3dho sooo lets smooth it "
   ]
  },
  {
   "cell_type": "code",
   "execution_count": 56,
   "metadata": {},
   "outputs": [
    {
     "data": {
      "image/png": "[encoded data removed]",
      "text/plain": [
       "<Figure size 640x480 with 1 Axes>"
      ]
     },
     "metadata": {},
     "output_type": "display_data"
    }
   ],
   "source": [
    "def smooth(data, window_size=15):\n",
    "    return [sum(data[i:i+window_size])/window_size for i in range(len(data)-window_size)]\n",
    "smoothed = smooth(train_history[10:], window_size=20)\n",
    "plt.plot(smoothed)\n",
    "plt.title(\"Smoothed Train Loss \")\n",
    "plt.xlabel(\"100 batch\")\n",
    "plt.ylabel(\"Loss\")\n",
    "plt.grid()\n",
    "plt.show()\n"
   ]
  },
  {
   "cell_type": "markdown",
   "metadata": {},
   "source": [
    "looks great !\n",
    "lets test it !"
   ]
  },
  {
   "cell_type": "code",
   "execution_count": 59,
   "metadata": {},
   "outputs": [],
   "source": [
    "def predict_masked_tokens(model,masked_encodings ,batchof_mask_indexes ):\n",
    "    predictions = model(masked_encodings).argmax(dim=-1)\n",
    "   \n",
    "    result = []\n",
    "\n",
    "    for original_encodings ,mask_indexes , pred in zip(masked_encodings,batchof_mask_indexes , predictions):\n",
    "        encodings = pred.tolist()\n",
    "        original_encodings = original_encodings.tolist()\n",
    "        for j in mask_indexes:\n",
    "            original_encodings[j] = encodings[j]\n",
    "        result.append(decode(original_encodings))\n",
    "    return result\n"
   ]
  },
  {
   "cell_type": "code",
   "execution_count": 92,
   "metadata": {},
   "outputs": [
    {
     "name": "stdout",
     "output_type": "stream",
     "text": [
      "original phrase : waaa bro wenek nestennew fyk men bekry \n",
      "masked phrase   : wacbro wenek nestennew fy[MASK]men bekryص\n",
      "prediction      : waa bro wenek nestennew fys men bekry[UNK]\n"
     ]
    }
   ],
   "source": [
    "phrase = \"waaa bro wenek nestennew fyk men bekry \"\n",
    "tokens , encodings = tokenize_batch([phrase] , new_vocab)\n",
    "masked_tokens , masked_encodings,mask_indexes = mask_batch(tokens , encodings, vocab_dict)\n",
    "input = to_tensor(masked_encodings ,new_vocab ,window_size)\n",
    "prediction = predict_masked_tokens(darja_model ,input , mask_indexes)\n",
    "print(f\"original phrase : {phrase}\")\n",
    "print(f\"masked phrase   : {\"\".join(masked_tokens[0])}\")\n",
    "print(f\"prediction      : {prediction[0]}\")\n",
    "\n"
   ]
  },
  {
   "cell_type": "code",
   "execution_count": 95,
   "metadata": {},
   "outputs": [
    {
     "name": "stdout",
     "output_type": "stream",
     "text": [
      "original phrase : من احلى ما سمعت و ما بش نسمع في حياتي\n",
      "masked phrase   : [MASK]حلى[MASK]سمعت و ما بش نسمع في حياتي\n",
      "prediction      : والله حلى شنو سمعت و ما بش نسمع في حياتي\n"
     ]
    }
   ],
   "source": [
    "phrase = \"من احلى ما سمعت و ما بش نسمع في حياتي\"\n",
    "tokens , encodings = tokenize_batch([phrase] , new_vocab)\n",
    "masked_tokens , masked_encodings,mask_indexes = mask_batch(tokens , encodings, vocab_dict)\n",
    "input = to_tensor(masked_encodings ,new_vocab ,window_size)\n",
    "prediction = predict_masked_tokens(darja_model ,input , mask_indexes)\n",
    "print(f\"original phrase : {phrase}\")\n",
    "print(f\"masked phrase   : {\"\".join(masked_tokens[0])}\")\n",
    "print(f\"prediction      : {prediction[0]}\")\n",
    "\n",
    "\n"
   ]
  },
  {
   "attachments": {},
   "cell_type": "markdown",
   "metadata": {},
   "source": [
    "# Conclusion  \n",
    "the model has learned alot , it can understand the sementics behind our darija  and can understand relationships between tokens in our phrases , still not so good enaugh at predicting the missing tokens but  considering its **limited size (10 times smaller than bert base)** its expected , i believe i could have reached a better loss if i spent a bit more time collecting a higher quality data , but either way , our darja is unpredictable and unstable , each word could be written in multiple different ways , it would take a huggg amount of data + a bigger model to work better on this .\n",
    "either way its now ready for finetuning onto other task\n"
   ]
  },
  {
   "attachments": {},
   "cell_type": "markdown",
   "metadata": {},
   "source": [
    "# finetuning\n",
    "in this section we will take the pretrained model , finetune it for other task , for exemple\n",
    "\n",
    "## darja sentiment analysis"
   ]
  },
  {
   "attachments": {},
   "cell_type": "markdown",
   "metadata": {},
   "source": [
    "first lets get the data , to do so we will create a custom dataset class (little overboard but seemed fun to try)"
   ]
  },
  {
   "cell_type": "code",
   "execution_count": 193,
   "metadata": {},
   "outputs": [],
   "source": [
    "from torch.utils.data import Dataset , DataLoader\n",
    "import pandas as pd\n",
    "class sentiment_dataset(Dataset):\n",
    "    def __init__(self ,  csv_path, transform =None):\n",
    "        super().__init__()\n",
    "        self.data = pd.read_csv(csv_path ,usecols=[\"text\" ,\"label\"])\n",
    "\n",
    "        self.transform = transform\n",
    "    def __len__(self):\n",
    "        return len(self.data)\n",
    "\n",
    "    def __getitem__(self, idx):\n",
    "        if torch.is_tensor(idx):\n",
    "            idx = idx.tolist()\n",
    "        text = self.data.iloc[idx][\"text\"]\n",
    "        label =  self.data.iloc[idx][\"label\"] if self.data.iloc[idx][\"label\"]!=-1 else 2\n",
    "        return self.transform(text) , label\n"
   ]
  },
  {
   "attachments": {},
   "cell_type": "markdown",
   "metadata": {},
   "source": [
    "we could apply a transformation function here"
   ]
  },
  {
   "cell_type": "code",
   "execution_count": 194,
   "metadata": {},
   "outputs": [],
   "source": [
    "def clean_sa_text(text):\n",
    "    text = re.sub(r'[^\\u0600-\\u06FFa-zA-Z0-9\\s]', '', text)\n",
    "    text = text.lower()\n",
    "    text = ' '.join(text.split())\n",
    "\n",
    "    return text"
   ]
  },
  {
   "cell_type": "code",
   "execution_count": 195,
   "metadata": {},
   "outputs": [],
   "source": [
    "from sklearn.model_selection import train_test_split\n",
    "sa_data = sentiment_dataset(\"SA_data.csv\",clean_sa_text)\n",
    "sa_train_data , sa_test_data  = train_test_split(sa_data , test_size=0.1)"
   ]
  },
  {
   "cell_type": "code",
   "execution_count": 196,
   "metadata": {},
   "outputs": [
    {
     "name": "stdout",
     "output_type": "stream",
     "text": [
      "63000\n",
      "7000\n"
     ]
    }
   ],
   "source": [
    "print(len(sa_train_data))\n",
    "print(len(sa_test_data))"
   ]
  },
  {
   "attachments": {},
   "cell_type": "markdown",
   "metadata": {},
   "source": [
    "greatt , lets create the model now , it will work as the following , we will add a CLS token at the begining of each sentence , and we will train the model to encode the class of the sentence in that token , so we can use it to classify the sentence"
   ]
  },
  {
   "cell_type": "code",
   "execution_count": 197,
   "metadata": {},
   "outputs": [],
   "source": [
    "class Darja_sa(nn.Module):\n",
    "    def __init__(self , base_model : nn.Module , embad_dim) -> None:\n",
    "        super().__init__()\n",
    "        self.model = nn.Sequential(*list(base_model.children())[:-1]) #pretrained model outputs b t d\n",
    "\n",
    "        #usually we use this line to freeze the pretrained model , but since we didnt use cls in our original model we need to finetune it all to adjust the embading of cls token (very rookie mistake)\n",
    "        \"\"\"for param in self.model.parameters():\n",
    "            param.requires_grad = False\"\"\"\n",
    "        self.classifier = nn.Sequential(nn.Linear(embad_dim , embad_dim//2),\n",
    "                                        nn.ReLU(),\n",
    "                                        nn.Linear(embad_dim//2 ,3)\n",
    "                                        )\n",
    "    def forward(self, x):\n",
    "        res = self.model(x)\n",
    "        return self.classifier(res[:,0,:])\n"
   ]
  },
  {
   "cell_type": "code",
   "execution_count": 234,
   "metadata": {},
   "outputs": [],
   "source": [
    "vocab_size = len(new_vocab)\n",
    "embad_dim=256\n",
    "window_size = 512\n",
    "darja_model = DarjaBERT(vocab_size,embad_dim,window_size).to(device)\n",
    "darja_model.load_state_dict(torch.load(\"darja_model.pt\"))\n",
    "sa_model = Darja_sa(darja_model,embad_dim).to(device)\n",
    "lossf = nn.CrossEntropyLoss()\n",
    "optimizer = torch.optim.AdamW(sa_model.parameters() , lr=1e-5 , weight_decay=0.01)"
   ]
  },
  {
   "attachments": {},
   "cell_type": "markdown",
   "metadata": {},
   "source": [
    "now onto training , the principle is the following , we are going to add the cls token at the begining of each phrase "
   ]
  },
  {
   "cell_type": "code",
   "execution_count": 227,
   "metadata": {},
   "outputs": [],
   "source": [
    "def tokenize_batch(chunk , vocab_dict ,trunc = float(\"inf\"), ignore_unk = False ):\n",
    "    tokens = []\n",
    "    encodings = []\n",
    "    for text in chunk:\n",
    "        token , encoding = tokenize(text , vocab_dict=vocab_dict, ignore_unknown = ignore_unk)\n",
    "        token.insert(0,\"[CLS]\")\n",
    "        encoding.insert(0,vocab_dict[\"[CLS]\"])\n",
    "        if len(encoding)> trunc:\n",
    "            encoding = encoding[:trunc]\n",
    "            token = token[:trunc]\n",
    "        tokens.append(token)\n",
    "        encodings.append(encoding)\n",
    "    return tokens, encodings"
   ]
  },
  {
   "cell_type": "code",
   "execution_count": 241,
   "metadata": {},
   "outputs": [
    {
     "name": "stdout",
     "output_type": "stream",
     "text": [
      "loading old data \n",
      "check point found\n",
      "6\n",
      "1900\n",
      "training...\n"
     ]
    },
    {
     "name": "stderr",
     "output_type": "stream",
     "text": [
      "1661it [00:00, 16455.90it/s]"
     ]
    },
    {
     "name": "stdout",
     "output_type": "stream",
     "text": [
      "train loss : 0.243794783949852 \n"
     ]
    },
    {
     "name": "stderr",
     "output_type": "stream",
     "text": [
      "1969it [00:14, 137.28it/s]  \n"
     ]
    },
    {
     "name": "stdout",
     "output_type": "stream",
     "text": [
      "train loss : 0.30402449978625073 \n",
      "testing...\n"
     ]
    },
    {
     "name": "stderr",
     "output_type": "stream",
     "text": [
      "103it [00:11, 11.71it/s]"
     ]
    },
    {
     "name": "stdout",
     "output_type": "stream",
     "text": [
      "test loss : 0.5868487616281698\n"
     ]
    },
    {
     "name": "stderr",
     "output_type": "stream",
     "text": [
      "203it [00:21, 11.59it/s]"
     ]
    },
    {
     "name": "stdout",
     "output_type": "stream",
     "text": [
      "test loss : 0.5875232611596585\n"
     ]
    },
    {
     "name": "stderr",
     "output_type": "stream",
     "text": [
      "219it [00:23,  9.34it/s]\n"
     ]
    },
    {
     "name": "stdout",
     "output_type": "stream",
     "text": [
      "test loss : 0.5779734767145581\n",
      "training...\n"
     ]
    },
    {
     "name": "stderr",
     "output_type": "stream",
     "text": [
      "101it [00:22,  2.90it/s]"
     ]
    },
    {
     "name": "stdout",
     "output_type": "stream",
     "text": [
      "train loss : 0.3153160941777843 \n"
     ]
    },
    {
     "name": "stderr",
     "output_type": "stream",
     "text": [
      "201it [00:44,  4.84it/s]"
     ]
    },
    {
     "name": "stdout",
     "output_type": "stream",
     "text": [
      "train loss : 0.33202811107039454 \n"
     ]
    },
    {
     "name": "stderr",
     "output_type": "stream",
     "text": [
      "301it [01:06,  4.54it/s]"
     ]
    },
    {
     "name": "stdout",
     "output_type": "stream",
     "text": [
      "train loss : 0.34136503145098684 \n"
     ]
    },
    {
     "name": "stderr",
     "output_type": "stream",
     "text": [
      "401it [01:29,  3.94it/s]"
     ]
    },
    {
     "name": "stdout",
     "output_type": "stream",
     "text": [
      "train loss : 0.3161483037471771 \n"
     ]
    },
    {
     "name": "stderr",
     "output_type": "stream",
     "text": [
      "501it [01:51,  4.07it/s]"
     ]
    },
    {
     "name": "stdout",
     "output_type": "stream",
     "text": [
      "train loss : 0.3310712774097919 \n"
     ]
    },
    {
     "name": "stderr",
     "output_type": "stream",
     "text": [
      "601it [02:12,  4.94it/s]"
     ]
    },
    {
     "name": "stdout",
     "output_type": "stream",
     "text": [
      "train loss : 0.3399214096367359 \n"
     ]
    },
    {
     "name": "stderr",
     "output_type": "stream",
     "text": [
      "701it [02:32,  5.71it/s]"
     ]
    },
    {
     "name": "stdout",
     "output_type": "stream",
     "text": [
      "train loss : 0.3408610686659813 \n"
     ]
    },
    {
     "name": "stderr",
     "output_type": "stream",
     "text": [
      "801it [02:54,  4.34it/s]"
     ]
    },
    {
     "name": "stdout",
     "output_type": "stream",
     "text": [
      "train loss : 0.34104094743728636 \n"
     ]
    },
    {
     "name": "stderr",
     "output_type": "stream",
     "text": [
      "901it [03:16,  3.93it/s]"
     ]
    },
    {
     "name": "stdout",
     "output_type": "stream",
     "text": [
      "train loss : 0.34872049853205683 \n"
     ]
    },
    {
     "name": "stderr",
     "output_type": "stream",
     "text": [
      "1001it [03:37,  3.88it/s]"
     ]
    },
    {
     "name": "stdout",
     "output_type": "stream",
     "text": [
      "train loss : 0.32087556131184103 \n"
     ]
    },
    {
     "name": "stderr",
     "output_type": "stream",
     "text": [
      "1101it [03:57,  4.84it/s]"
     ]
    },
    {
     "name": "stdout",
     "output_type": "stream",
     "text": [
      "train loss : 0.331924661397934 \n"
     ]
    },
    {
     "name": "stderr",
     "output_type": "stream",
     "text": [
      "1201it [04:20,  3.90it/s]"
     ]
    },
    {
     "name": "stdout",
     "output_type": "stream",
     "text": [
      "train loss : 0.34544093802571296 \n"
     ]
    },
    {
     "name": "stderr",
     "output_type": "stream",
     "text": [
      "1301it [04:42,  4.87it/s]"
     ]
    },
    {
     "name": "stdout",
     "output_type": "stream",
     "text": [
      "train loss : 0.32330946177244185 \n"
     ]
    },
    {
     "name": "stderr",
     "output_type": "stream",
     "text": [
      "1401it [05:05,  4.51it/s]"
     ]
    },
    {
     "name": "stdout",
     "output_type": "stream",
     "text": [
      "train loss : 0.34064950242638586 \n"
     ]
    },
    {
     "name": "stderr",
     "output_type": "stream",
     "text": [
      "1500it [05:28,  5.16it/s]"
     ]
    },
    {
     "name": "stdout",
     "output_type": "stream",
     "text": [
      "train loss : 0.33980477079749105 \n"
     ]
    },
    {
     "name": "stderr",
     "output_type": "stream",
     "text": [
      "1600it [05:50,  3.74it/s]"
     ]
    },
    {
     "name": "stdout",
     "output_type": "stream",
     "text": [
      "train loss : 0.34503229409456254 \n"
     ]
    },
    {
     "name": "stderr",
     "output_type": "stream",
     "text": [
      "1700it [06:11,  5.81it/s]"
     ]
    },
    {
     "name": "stdout",
     "output_type": "stream",
     "text": [
      "train loss : 0.33337887227535246 \n"
     ]
    },
    {
     "name": "stderr",
     "output_type": "stream",
     "text": [
      "1801it [06:32,  5.12it/s]"
     ]
    },
    {
     "name": "stdout",
     "output_type": "stream",
     "text": [
      "train loss : 0.30598163202404977 \n"
     ]
    },
    {
     "name": "stderr",
     "output_type": "stream",
     "text": [
      "1901it [06:55,  4.70it/s]"
     ]
    },
    {
     "name": "stdout",
     "output_type": "stream",
     "text": [
      "train loss : 0.33860808953642846 \n"
     ]
    },
    {
     "name": "stderr",
     "output_type": "stream",
     "text": [
      "1969it [07:08,  4.59it/s]\n"
     ]
    },
    {
     "name": "stdout",
     "output_type": "stream",
     "text": [
      "train loss : 0.3162865338518339 \n",
      "testing...\n"
     ]
    },
    {
     "name": "stderr",
     "output_type": "stream",
     "text": [
      "102it [00:12, 10.32it/s]"
     ]
    },
    {
     "name": "stdout",
     "output_type": "stream",
     "text": [
      "test loss : 0.616584067297454\n"
     ]
    },
    {
     "name": "stderr",
     "output_type": "stream",
     "text": [
      "202it [00:22, 12.76it/s]"
     ]
    },
    {
     "name": "stdout",
     "output_type": "stream",
     "text": [
      "test loss : 0.6128488346934319\n"
     ]
    },
    {
     "name": "stderr",
     "output_type": "stream",
     "text": [
      "219it [00:24,  8.89it/s]\n"
     ]
    },
    {
     "name": "stdout",
     "output_type": "stream",
     "text": [
      "test loss : 0.5917740927802192\n",
      "training...\n"
     ]
    },
    {
     "name": "stderr",
     "output_type": "stream",
     "text": [
      "83it [00:22,  3.70it/s]\n"
     ]
    },
    {
     "ename": "KeyboardInterrupt",
     "evalue": "",
     "output_type": "error",
     "traceback": [
      "\u001b[31m---------------------------------------------------------------------------\u001b[39m",
      "\u001b[31mKeyboardInterrupt\u001b[39m                         Traceback (most recent call last)",
      "\u001b[36mCell\u001b[39m\u001b[36m \u001b[39m\u001b[32mIn[241]\u001b[39m\u001b[32m, line 35\u001b[39m\n\u001b[32m     33\u001b[39m \u001b[38;5;66;03m#n7adhro el batch\u001b[39;00m\n\u001b[32m     34\u001b[39m tokens , encodings = tokenize_batch(texts ,new_vocab ,trunc = window_size)\n\u001b[32m---> \u001b[39m\u001b[32m35\u001b[39m labels=\u001b[43mlabels\u001b[49m\u001b[43m.\u001b[49m\u001b[43mto\u001b[49m\u001b[43m(\u001b[49m\u001b[43mdevice\u001b[49m\u001b[43m)\u001b[49m\n\u001b[32m     36\u001b[39m train_batch = to_tensor(encodings ,  new_vocab ,window_size).to(device)\n\u001b[32m     38\u001b[39m \u001b[38;5;66;03m# nebdaw el train\u001b[39;00m\n",
      "\u001b[31mKeyboardInterrupt\u001b[39m: "
     ]
    }
   ],
   "source": [
    "epochs = 10\n",
    "batch_size = 32\n",
    "sa_train_dataloader = DataLoader(sa_train_data,batch_size=batch_size,shuffle = True)\n",
    "sa_test_dataloader = DataLoader(sa_test_data,batch_size=batch_size,shuffle = True)\n",
    "\n",
    "\n",
    "try:\n",
    "    print(\"loading old data \")\n",
    "    checkpoint = torch.load(\"training_state_sa.pt\")\n",
    "    print(\"check point found\")\n",
    "    train_history = checkpoint['train_history']\n",
    "    test_history = checkpoint['test_history']\n",
    "    start = checkpoint['start']\n",
    "    resume_epoch = checkpoint['epoch']\n",
    "    sa_model.load_state_dict(torch.load(\"darja_model_sa.pt\"))\n",
    "    print(resume_epoch)\n",
    "    print(start)\n",
    "\n",
    "except:\n",
    "    print(\"starting new \")\n",
    "    train_history = []\n",
    "    test_history = []\n",
    "    start = 0\n",
    "    resume_epoch = 0\n",
    "\n",
    "for epoch in range(resume_epoch, epochs):\n",
    "    print(\"training...\")\n",
    "    loss_table=[]\n",
    "    for iter ,batch in tqdm.tqdm(enumerate(sa_train_dataloader)):  \n",
    "        if iter<start:\n",
    "            continue\n",
    "        texts , labels = batch\n",
    "        #n7adhro el batch\n",
    "        tokens , encodings = tokenize_batch(texts ,new_vocab ,trunc = window_size)\n",
    "        labels=labels.to(device)\n",
    "        train_batch = to_tensor(encodings ,  new_vocab ,window_size).to(device)\n",
    "\n",
    "        # nebdaw el train\n",
    "\n",
    "        sa_model.train()\n",
    "\n",
    "        y_pred = sa_model(train_batch)\n",
    "        loss = lossf(y_pred, labels)\n",
    "        loss_table.append(loss.item())\n",
    "\n",
    "        optimizer.zero_grad()\n",
    "\n",
    "        loss.backward()\n",
    "\n",
    "        optimizer.step()\n",
    "\n",
    "        if iter!=0 and iter % 100 ==0:\n",
    "            loss_avrg = sum(loss_table) / len(loss_table)\n",
    "            train_history.append(loss_avrg)\n",
    "            print(f\"train loss : {loss_avrg} \")\n",
    "            loss_table.clear()\n",
    "        #added this part cause it takes a looonnng long time and  i kept losing all my progress\n",
    "        if iter!=0 and iter% 100==0:\n",
    "            #nsavio el progress every 1000 steps\n",
    "            torch.save({\n",
    "                'train_history': train_history,\n",
    "                'test_history': test_history,\n",
    "                'start':  iter ,\n",
    "                'epoch': epoch\n",
    "            }, \"training_state_sa.pt\")\n",
    "            torch.save(sa_model.state_dict(), \"darja_model_sa.pt\")\n",
    "    if loss_table:\n",
    "        loss_avrg = sum(loss_table) / len(loss_table)\n",
    "        train_history.append(loss_avrg)\n",
    "        print(f\"train loss : {loss_avrg} \")\n",
    "        loss_table.clear()\n",
    "    print(\"testing...\")\n",
    "    test_loss_table = []\n",
    "\n",
    "    sa_model.eval()\n",
    "    with torch.inference_mode() :\n",
    "        for test_iter ,batch in tqdm.tqdm(enumerate(sa_test_dataloader)):  \n",
    "            \n",
    "            texts , labels = batch\n",
    "            #n7adhro el batch\n",
    "            tokens , encodings = tokenize_batch(texts ,new_vocab ,trunc = window_size)\n",
    "            labels=labels.to(device)\n",
    "            test_batch = to_tensor(encodings ,  new_vocab ,window_size).to(device)\n",
    "\n",
    "\n",
    "            y_pred = sa_model(test_batch)\n",
    "            loss = lossf(y_pred, labels)\n",
    "\n",
    "\n",
    "            test_loss_table.append(loss.item())\n",
    "\n",
    "\n",
    "            if  test_iter!=0 and test_iter % 100 == 0:\n",
    "                test_avg = sum(test_loss_table) / len(test_loss_table)\n",
    "                test_history.append(test_avg)\n",
    "                print(f\"test loss : {test_avg}\")\n",
    "                test_loss_table.clear()\n",
    "        if test_loss_table:\n",
    "            test_avg = sum(test_loss_table) / len(test_loss_table)\n",
    "            test_history.append(test_avg)\n",
    "            print(f\"test loss : {test_avg}\")\n",
    "            test_loss_table.clear()\n",
    "\n",
    "\n",
    "    \n",
    "\n",
    "\n",
    "    start = 0"
   ]
  },
  {
   "attachments": {},
   "cell_type": "markdown",
   "metadata": {},
   "source": [
    "the test accuracy is not improving anymore, so lets stop it there"
   ]
  },
  {
   "cell_type": "code",
   "execution_count": 239,
   "metadata": {},
   "outputs": [],
   "source": [
    "def evaluate_accuracy(model, dataloader, vocab, window_size):\n",
    "    model.eval()\n",
    "    correct = 0\n",
    "    total = 0\n",
    "    with torch.inference_mode():\n",
    "        for batch in tqdm.tqdm(dataloader):\n",
    "            texts, labels = batch\n",
    "            tokens, encodings = tokenize_batch(texts, vocab, trunc=window_size)\n",
    "            inputs = to_tensor(encodings, vocab, window_size).to(device)\n",
    "            labels = labels.to(device)\n",
    "\n",
    "            outputs = model(inputs)\n",
    "            preds = outputs.argmax(dim=1)\n",
    "\n",
    "            correct += (preds == labels).sum().item()\n",
    "            total += labels.size(0)\n",
    "    return correct / total\n"
   ]
  },
  {
   "cell_type": "code",
   "execution_count": 242,
   "metadata": {},
   "outputs": [
    {
     "name": "stdout",
     "output_type": "stream",
     "text": [
      "🔍 Evaluating final accuracy...\n"
     ]
    },
    {
     "name": "stderr",
     "output_type": "stream",
     "text": [
      "100%|██████████| 1969/1969 [03:45<00:00,  8.72it/s]\n",
      "100%|██████████| 219/219 [00:23<00:00,  9.49it/s]"
     ]
    },
    {
     "name": "stdout",
     "output_type": "stream",
     "text": [
      "✅ Final Train Accuracy: 89.62%\n",
      "✅ Final Test Accuracy: 75.86%\n"
     ]
    },
    {
     "name": "stderr",
     "output_type": "stream",
     "text": [
      "\n"
     ]
    }
   ],
   "source": [
    "print(\"🔍 Evaluating final accuracy...\")\n",
    "\n",
    "train_acc = evaluate_accuracy(sa_model, sa_train_dataloader, new_vocab, window_size)\n",
    "test_acc = evaluate_accuracy(sa_model, sa_test_dataloader, new_vocab, window_size)\n",
    "\n",
    "print(f\"✅ Final Train Accuracy: {train_acc * 100:.2f}%\")\n",
    "print(f\"✅ Final Test Accuracy: {test_acc * 100:.2f}%\")\n"
   ]
  },
  {
   "cell_type": "markdown",
   "metadata": {},
   "source": [
    "yeah not so bad considering my setup , hopefully on my next tries , with a bit of planning , better data and better hardware , this could be a better model\n",
    "\n"
   ]
  },
  {
   "cell_type": "markdown",
   "metadata": {},
   "source": [
    "thank you for following along , if you didnt understand anything , feel free to contact me : https://www.linkedin.com/in/mahdi-ben-ameur-5089ba240/"
   ]
  }
 ],
 "metadata": {
  "kernelspec": {
   "display_name": "pytorch_training",
   "language": "python",
   "name": "python3"
  },
  "language_info": {
   "codemirror_mode": {
    "name": "ipython",
    "version": 3
   },
   "file_extension": ".py",
   "mimetype": "text/x-python",
   "name": "python",
   "nbconvert_exporter": "python",
   "pygments_lexer": "ipython3",
   "version": "3.12.5"
  },
  "orig_nbformat": 4
 },
 "nbformat": 4,
 "nbformat_minor": 2
}
